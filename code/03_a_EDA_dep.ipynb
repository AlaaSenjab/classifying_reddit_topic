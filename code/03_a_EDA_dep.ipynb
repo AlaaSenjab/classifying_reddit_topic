{
 "cells": [
  {
   "cell_type": "markdown",
   "metadata": {},
   "source": [
    "## Importing Libraries"
   ]
  },
  {
   "cell_type": "code",
   "execution_count": 2,
   "metadata": {},
   "outputs": [],
   "source": [
    "import pandas as pd\n",
    "import numpy as np"
   ]
  },
  {
   "cell_type": "markdown",
   "metadata": {},
   "source": [
    "## Reading The Data"
   ]
  },
  {
   "cell_type": "code",
   "execution_count": 8,
   "metadata": {},
   "outputs": [],
   "source": [
    "#reading the data\n",
    "dep = pd.read_csv('../data/dep.csv')"
   ]
  },
  {
   "cell_type": "code",
   "execution_count": 9,
   "metadata": {},
   "outputs": [
    {
     "data": {
      "text/plain": [
       "(50000, 9)"
      ]
     },
     "execution_count": 9,
     "metadata": {},
     "output_type": "execute_result"
    }
   ],
   "source": [
    "#shape\n",
    "dep.shape"
   ]
  },
  {
   "cell_type": "code",
   "execution_count": 10,
   "metadata": {
    "scrolled": true
   },
   "outputs": [
    {
     "data": {
      "text/html": [
       "<div>\n",
       "<style scoped>\n",
       "    .dataframe tbody tr th:only-of-type {\n",
       "        vertical-align: middle;\n",
       "    }\n",
       "\n",
       "    .dataframe tbody tr th {\n",
       "        vertical-align: top;\n",
       "    }\n",
       "\n",
       "    .dataframe thead th {\n",
       "        text-align: right;\n",
       "    }\n",
       "</style>\n",
       "<table border=\"1\" class=\"dataframe\">\n",
       "  <thead>\n",
       "    <tr style=\"text-align: right;\">\n",
       "      <th></th>\n",
       "      <th>title</th>\n",
       "      <th>selftext</th>\n",
       "      <th>subreddit</th>\n",
       "      <th>created_utc</th>\n",
       "      <th>author</th>\n",
       "      <th>num_comments</th>\n",
       "      <th>score</th>\n",
       "      <th>is_self</th>\n",
       "      <th>timestamp</th>\n",
       "    </tr>\n",
       "  </thead>\n",
       "  <tbody>\n",
       "    <tr>\n",
       "      <td>0</td>\n",
       "      <td>Magickal thinking while depressed</td>\n",
       "      <td>I hate myself so much. This is the third time ...</td>\n",
       "      <td>depression</td>\n",
       "      <td>1570997530</td>\n",
       "      <td>violent10denseas</td>\n",
       "      <td>11</td>\n",
       "      <td>1</td>\n",
       "      <td>True</td>\n",
       "      <td>2019-10-13</td>\n",
       "    </tr>\n",
       "    <tr>\n",
       "      <td>1</td>\n",
       "      <td>Last year I made a promise to myself that I'd ...</td>\n",
       "      <td>Last year I realized that I'd never have the c...</td>\n",
       "      <td>depression</td>\n",
       "      <td>1570997608</td>\n",
       "      <td>lernem</td>\n",
       "      <td>0</td>\n",
       "      <td>1</td>\n",
       "      <td>True</td>\n",
       "      <td>2019-10-13</td>\n",
       "    </tr>\n",
       "    <tr>\n",
       "      <td>2</td>\n",
       "      <td>I no longer have any friends</td>\n",
       "      <td>I've always had lots of friends but now I've r...</td>\n",
       "      <td>depression</td>\n",
       "      <td>1570997683</td>\n",
       "      <td>anong18</td>\n",
       "      <td>0</td>\n",
       "      <td>1</td>\n",
       "      <td>True</td>\n",
       "      <td>2019-10-13</td>\n",
       "    </tr>\n",
       "    <tr>\n",
       "      <td>3</td>\n",
       "      <td>I wish I could kill myself without hurting anyone</td>\n",
       "      <td>My family will be sad and my dog won't know wh...</td>\n",
       "      <td>depression</td>\n",
       "      <td>1570997688</td>\n",
       "      <td>IlanaBl</td>\n",
       "      <td>6</td>\n",
       "      <td>1</td>\n",
       "      <td>True</td>\n",
       "      <td>2019-10-13</td>\n",
       "    </tr>\n",
       "    <tr>\n",
       "      <td>4</td>\n",
       "      <td>Depression affecting me physically</td>\n",
       "      <td>Hi, I’m a female in my early mid twenties and ...</td>\n",
       "      <td>depression</td>\n",
       "      <td>1570997699</td>\n",
       "      <td>Rare_Sherbert</td>\n",
       "      <td>1</td>\n",
       "      <td>1</td>\n",
       "      <td>True</td>\n",
       "      <td>2019-10-13</td>\n",
       "    </tr>\n",
       "  </tbody>\n",
       "</table>\n",
       "</div>"
      ],
      "text/plain": [
       "                                               title  \\\n",
       "0                  Magickal thinking while depressed   \n",
       "1  Last year I made a promise to myself that I'd ...   \n",
       "2                       I no longer have any friends   \n",
       "3  I wish I could kill myself without hurting anyone   \n",
       "4                 Depression affecting me physically   \n",
       "\n",
       "                                            selftext   subreddit  created_utc  \\\n",
       "0  I hate myself so much. This is the third time ...  depression   1570997530   \n",
       "1  Last year I realized that I'd never have the c...  depression   1570997608   \n",
       "2  I've always had lots of friends but now I've r...  depression   1570997683   \n",
       "3  My family will be sad and my dog won't know wh...  depression   1570997688   \n",
       "4  Hi, I’m a female in my early mid twenties and ...  depression   1570997699   \n",
       "\n",
       "             author  num_comments  score  is_self   timestamp  \n",
       "0  violent10denseas            11      1     True  2019-10-13  \n",
       "1            lernem             0      1     True  2019-10-13  \n",
       "2           anong18             0      1     True  2019-10-13  \n",
       "3           IlanaBl             6      1     True  2019-10-13  \n",
       "4     Rare_Sherbert             1      1     True  2019-10-13  "
      ]
     },
     "execution_count": 10,
     "metadata": {},
     "output_type": "execute_result"
    }
   ],
   "source": [
    "dep.head()"
   ]
  },
  {
   "cell_type": "markdown",
   "metadata": {},
   "source": [
    "## EDA"
   ]
  },
  {
   "cell_type": "code",
   "execution_count": 11,
   "metadata": {},
   "outputs": [
    {
     "data": {
      "text/plain": [
       "3858"
      ]
     },
     "execution_count": 11,
     "metadata": {},
     "output_type": "execute_result"
    }
   ],
   "source": [
    "#some posts were removed\n",
    "#let's see how many are these\n",
    "(dep['selftext'] == \"[removed]\").sum()"
   ]
  },
  {
   "cell_type": "code",
   "execution_count": 12,
   "metadata": {},
   "outputs": [],
   "source": [
    "#dropping the rows where the posts are removed\n",
    "dep = dep[dep['selftext'] != \"[removed]\"]"
   ]
  },
  {
   "cell_type": "code",
   "execution_count": 13,
   "metadata": {},
   "outputs": [
    {
     "data": {
      "text/plain": [
       "781"
      ]
     },
     "execution_count": 13,
     "metadata": {},
     "output_type": "execute_result"
    }
   ],
   "source": [
    "#checking the number of missing values (null) in 'selftext'\n",
    "dep['selftext'].isnull().sum()"
   ]
  },
  {
   "cell_type": "code",
   "execution_count": 14,
   "metadata": {},
   "outputs": [
    {
     "data": {
      "text/plain": [
       "0"
      ]
     },
     "execution_count": 14,
     "metadata": {},
     "output_type": "execute_result"
    }
   ],
   "source": [
    "#checking the number of missing values (null) in 'title'\n",
    "dep['title'].isnull().sum()"
   ]
  },
  {
   "cell_type": "markdown",
   "metadata": {},
   "source": [
    "I am planning on joning the title and the selftext into one feature. Before i do that i need to change the nan values into an str datatype so they could be joined. ('some string' + np.nan = nan)"
   ]
  },
  {
   "cell_type": "code",
   "execution_count": 15,
   "metadata": {},
   "outputs": [],
   "source": [
    "#filling nan values with an empty string\n",
    "dep['selftext'].fillna(\"\", inplace=True)\n",
    "dep['title'].fillna(\"\", inplace=True)"
   ]
  },
  {
   "cell_type": "code",
   "execution_count": 16,
   "metadata": {},
   "outputs": [],
   "source": [
    "#now joining the two columns\n",
    "dep['selftext'] = dep['title'] + ' ' + dep['selftext']"
   ]
  },
  {
   "cell_type": "code",
   "execution_count": 17,
   "metadata": {},
   "outputs": [
    {
     "data": {
      "text/html": [
       "<div>\n",
       "<style scoped>\n",
       "    .dataframe tbody tr th:only-of-type {\n",
       "        vertical-align: middle;\n",
       "    }\n",
       "\n",
       "    .dataframe tbody tr th {\n",
       "        vertical-align: top;\n",
       "    }\n",
       "\n",
       "    .dataframe thead th {\n",
       "        text-align: right;\n",
       "    }\n",
       "</style>\n",
       "<table border=\"1\" class=\"dataframe\">\n",
       "  <thead>\n",
       "    <tr style=\"text-align: right;\">\n",
       "      <th></th>\n",
       "      <th>title</th>\n",
       "      <th>selftext</th>\n",
       "      <th>subreddit</th>\n",
       "      <th>created_utc</th>\n",
       "      <th>author</th>\n",
       "      <th>num_comments</th>\n",
       "      <th>score</th>\n",
       "      <th>is_self</th>\n",
       "      <th>timestamp</th>\n",
       "    </tr>\n",
       "  </thead>\n",
       "  <tbody>\n",
       "    <tr>\n",
       "      <td>0</td>\n",
       "      <td>Magickal thinking while depressed</td>\n",
       "      <td>Magickal thinking while depressed I hate mysel...</td>\n",
       "      <td>depression</td>\n",
       "      <td>1570997530</td>\n",
       "      <td>violent10denseas</td>\n",
       "      <td>11</td>\n",
       "      <td>1</td>\n",
       "      <td>True</td>\n",
       "      <td>2019-10-13</td>\n",
       "    </tr>\n",
       "    <tr>\n",
       "      <td>1</td>\n",
       "      <td>Last year I made a promise to myself that I'd ...</td>\n",
       "      <td>Last year I made a promise to myself that I'd ...</td>\n",
       "      <td>depression</td>\n",
       "      <td>1570997608</td>\n",
       "      <td>lernem</td>\n",
       "      <td>0</td>\n",
       "      <td>1</td>\n",
       "      <td>True</td>\n",
       "      <td>2019-10-13</td>\n",
       "    </tr>\n",
       "    <tr>\n",
       "      <td>2</td>\n",
       "      <td>I no longer have any friends</td>\n",
       "      <td>I no longer have any friends I've always had l...</td>\n",
       "      <td>depression</td>\n",
       "      <td>1570997683</td>\n",
       "      <td>anong18</td>\n",
       "      <td>0</td>\n",
       "      <td>1</td>\n",
       "      <td>True</td>\n",
       "      <td>2019-10-13</td>\n",
       "    </tr>\n",
       "    <tr>\n",
       "      <td>3</td>\n",
       "      <td>I wish I could kill myself without hurting anyone</td>\n",
       "      <td>I wish I could kill myself without hurting any...</td>\n",
       "      <td>depression</td>\n",
       "      <td>1570997688</td>\n",
       "      <td>IlanaBl</td>\n",
       "      <td>6</td>\n",
       "      <td>1</td>\n",
       "      <td>True</td>\n",
       "      <td>2019-10-13</td>\n",
       "    </tr>\n",
       "    <tr>\n",
       "      <td>4</td>\n",
       "      <td>Depression affecting me physically</td>\n",
       "      <td>Depression affecting me physically Hi, I’m a f...</td>\n",
       "      <td>depression</td>\n",
       "      <td>1570997699</td>\n",
       "      <td>Rare_Sherbert</td>\n",
       "      <td>1</td>\n",
       "      <td>1</td>\n",
       "      <td>True</td>\n",
       "      <td>2019-10-13</td>\n",
       "    </tr>\n",
       "  </tbody>\n",
       "</table>\n",
       "</div>"
      ],
      "text/plain": [
       "                                               title  \\\n",
       "0                  Magickal thinking while depressed   \n",
       "1  Last year I made a promise to myself that I'd ...   \n",
       "2                       I no longer have any friends   \n",
       "3  I wish I could kill myself without hurting anyone   \n",
       "4                 Depression affecting me physically   \n",
       "\n",
       "                                            selftext   subreddit  created_utc  \\\n",
       "0  Magickal thinking while depressed I hate mysel...  depression   1570997530   \n",
       "1  Last year I made a promise to myself that I'd ...  depression   1570997608   \n",
       "2  I no longer have any friends I've always had l...  depression   1570997683   \n",
       "3  I wish I could kill myself without hurting any...  depression   1570997688   \n",
       "4  Depression affecting me physically Hi, I’m a f...  depression   1570997699   \n",
       "\n",
       "             author  num_comments  score  is_self   timestamp  \n",
       "0  violent10denseas            11      1     True  2019-10-13  \n",
       "1            lernem             0      1     True  2019-10-13  \n",
       "2           anong18             0      1     True  2019-10-13  \n",
       "3           IlanaBl             6      1     True  2019-10-13  \n",
       "4     Rare_Sherbert             1      1     True  2019-10-13  "
      ]
     },
     "execution_count": 17,
     "metadata": {},
     "output_type": "execute_result"
    }
   ],
   "source": [
    "dep.head()"
   ]
  },
  {
   "cell_type": "code",
   "execution_count": 18,
   "metadata": {},
   "outputs": [],
   "source": [
    "#i will drop the title and is_self columns now\n",
    "dep.drop(['title','timestamp', 'is_self', 'num_comments', 'author','created_utc', 'score'], axis =1, inplace=True)"
   ]
  },
  {
   "cell_type": "code",
   "execution_count": 19,
   "metadata": {},
   "outputs": [
    {
     "data": {
      "text/html": [
       "<div>\n",
       "<style scoped>\n",
       "    .dataframe tbody tr th:only-of-type {\n",
       "        vertical-align: middle;\n",
       "    }\n",
       "\n",
       "    .dataframe tbody tr th {\n",
       "        vertical-align: top;\n",
       "    }\n",
       "\n",
       "    .dataframe thead th {\n",
       "        text-align: right;\n",
       "    }\n",
       "</style>\n",
       "<table border=\"1\" class=\"dataframe\">\n",
       "  <thead>\n",
       "    <tr style=\"text-align: right;\">\n",
       "      <th></th>\n",
       "      <th>selftext</th>\n",
       "      <th>subreddit</th>\n",
       "    </tr>\n",
       "  </thead>\n",
       "  <tbody>\n",
       "    <tr>\n",
       "      <td>0</td>\n",
       "      <td>Magickal thinking while depressed I hate mysel...</td>\n",
       "      <td>depression</td>\n",
       "    </tr>\n",
       "    <tr>\n",
       "      <td>1</td>\n",
       "      <td>Last year I made a promise to myself that I'd ...</td>\n",
       "      <td>depression</td>\n",
       "    </tr>\n",
       "    <tr>\n",
       "      <td>2</td>\n",
       "      <td>I no longer have any friends I've always had l...</td>\n",
       "      <td>depression</td>\n",
       "    </tr>\n",
       "    <tr>\n",
       "      <td>3</td>\n",
       "      <td>I wish I could kill myself without hurting any...</td>\n",
       "      <td>depression</td>\n",
       "    </tr>\n",
       "    <tr>\n",
       "      <td>4</td>\n",
       "      <td>Depression affecting me physically Hi, I’m a f...</td>\n",
       "      <td>depression</td>\n",
       "    </tr>\n",
       "  </tbody>\n",
       "</table>\n",
       "</div>"
      ],
      "text/plain": [
       "                                            selftext   subreddit\n",
       "0  Magickal thinking while depressed I hate mysel...  depression\n",
       "1  Last year I made a promise to myself that I'd ...  depression\n",
       "2  I no longer have any friends I've always had l...  depression\n",
       "3  I wish I could kill myself without hurting any...  depression\n",
       "4  Depression affecting me physically Hi, I’m a f...  depression"
      ]
     },
     "execution_count": 19,
     "metadata": {},
     "output_type": "execute_result"
    }
   ],
   "source": [
    "dep.head()"
   ]
  },
  {
   "cell_type": "code",
   "execution_count": 20,
   "metadata": {},
   "outputs": [
    {
     "data": {
      "text/plain": [
       "0"
      ]
     },
     "execution_count": 20,
     "metadata": {},
     "output_type": "execute_result"
    }
   ],
   "source": [
    "#lets check the missing values in 'subreddit'\n",
    "dep['subreddit'].isnull().sum()"
   ]
  },
  {
   "cell_type": "code",
   "execution_count": 21,
   "metadata": {},
   "outputs": [
    {
     "data": {
      "text/plain": [
       "depression    46142\n",
       "Name: subreddit, dtype: int64"
      ]
     },
     "execution_count": 21,
     "metadata": {},
     "output_type": "execute_result"
    }
   ],
   "source": [
    "#other values\n",
    "dep['subreddit'].value_counts()"
   ]
  },
  {
   "cell_type": "markdown",
   "metadata": {},
   "source": [
    "All these posts were taken from the same subreddit so i will fill the column with 0. Zero here mean that the person is depressed"
   ]
  },
  {
   "cell_type": "code",
   "execution_count": 22,
   "metadata": {},
   "outputs": [],
   "source": [
    "dep['subreddit'] = 0"
   ]
  },
  {
   "cell_type": "markdown",
   "metadata": {},
   "source": [
    "I am assuming that the missing values exist due to some error in the reddit api itself. All these posts were taken from the same subreddit so i will fill the nulls with 'dep'"
   ]
  },
  {
   "cell_type": "code",
   "execution_count": 23,
   "metadata": {},
   "outputs": [],
   "source": [
    "dep['subreddit'].fillna('dep', inplace=True)"
   ]
  },
  {
   "cell_type": "code",
   "execution_count": 24,
   "metadata": {},
   "outputs": [
    {
     "data": {
      "text/plain": [
       "0"
      ]
     },
     "execution_count": 24,
     "metadata": {},
     "output_type": "execute_result"
    }
   ],
   "source": [
    "#no more missing values\n",
    "dep.isnull().sum().sum()"
   ]
  },
  {
   "cell_type": "code",
   "execution_count": 25,
   "metadata": {
    "scrolled": false
   },
   "outputs": [
    {
     "data": {
      "text/html": [
       "<div>\n",
       "<style scoped>\n",
       "    .dataframe tbody tr th:only-of-type {\n",
       "        vertical-align: middle;\n",
       "    }\n",
       "\n",
       "    .dataframe tbody tr th {\n",
       "        vertical-align: top;\n",
       "    }\n",
       "\n",
       "    .dataframe thead th {\n",
       "        text-align: right;\n",
       "    }\n",
       "</style>\n",
       "<table border=\"1\" class=\"dataframe\">\n",
       "  <thead>\n",
       "    <tr style=\"text-align: right;\">\n",
       "      <th></th>\n",
       "      <th>selftext</th>\n",
       "      <th>subreddit</th>\n",
       "    </tr>\n",
       "  </thead>\n",
       "  <tbody>\n",
       "    <tr>\n",
       "      <td>0</td>\n",
       "      <td>Magickal thinking while depressed I hate mysel...</td>\n",
       "      <td>0</td>\n",
       "    </tr>\n",
       "    <tr>\n",
       "      <td>1</td>\n",
       "      <td>Last year I made a promise to myself that I'd ...</td>\n",
       "      <td>0</td>\n",
       "    </tr>\n",
       "    <tr>\n",
       "      <td>2</td>\n",
       "      <td>I no longer have any friends I've always had l...</td>\n",
       "      <td>0</td>\n",
       "    </tr>\n",
       "    <tr>\n",
       "      <td>3</td>\n",
       "      <td>I wish I could kill myself without hurting any...</td>\n",
       "      <td>0</td>\n",
       "    </tr>\n",
       "    <tr>\n",
       "      <td>4</td>\n",
       "      <td>Depression affecting me physically Hi, I’m a f...</td>\n",
       "      <td>0</td>\n",
       "    </tr>\n",
       "    <tr>\n",
       "      <td>5</td>\n",
       "      <td>I've never been this bad before The past week ...</td>\n",
       "      <td>0</td>\n",
       "    </tr>\n",
       "    <tr>\n",
       "      <td>6</td>\n",
       "      <td>I just don't get it I live with my parents, ev...</td>\n",
       "      <td>0</td>\n",
       "    </tr>\n",
       "    <tr>\n",
       "      <td>7</td>\n",
       "      <td>Being asked what I do for fun or on the weeken...</td>\n",
       "      <td>0</td>\n",
       "    </tr>\n",
       "    <tr>\n",
       "      <td>8</td>\n",
       "      <td>i don’t want to live in the real world okay i ...</td>\n",
       "      <td>0</td>\n",
       "    </tr>\n",
       "    <tr>\n",
       "      <td>9</td>\n",
       "      <td>Climate Despair I've struggled with bouts of s...</td>\n",
       "      <td>0</td>\n",
       "    </tr>\n",
       "    <tr>\n",
       "      <td>10</td>\n",
       "      <td>Doughnut Hole I have this hole in the middle o...</td>\n",
       "      <td>0</td>\n",
       "    </tr>\n",
       "    <tr>\n",
       "      <td>11</td>\n",
       "      <td>What do you do to past the time? I don't work,...</td>\n",
       "      <td>0</td>\n",
       "    </tr>\n",
       "  </tbody>\n",
       "</table>\n",
       "</div>"
      ],
      "text/plain": [
       "                                             selftext  subreddit\n",
       "0   Magickal thinking while depressed I hate mysel...          0\n",
       "1   Last year I made a promise to myself that I'd ...          0\n",
       "2   I no longer have any friends I've always had l...          0\n",
       "3   I wish I could kill myself without hurting any...          0\n",
       "4   Depression affecting me physically Hi, I’m a f...          0\n",
       "5   I've never been this bad before The past week ...          0\n",
       "6   I just don't get it I live with my parents, ev...          0\n",
       "7   Being asked what I do for fun or on the weeken...          0\n",
       "8   i don’t want to live in the real world okay i ...          0\n",
       "9   Climate Despair I've struggled with bouts of s...          0\n",
       "10  Doughnut Hole I have this hole in the middle o...          0\n",
       "11  What do you do to past the time? I don't work,...          0"
      ]
     },
     "execution_count": 25,
     "metadata": {},
     "output_type": "execute_result"
    }
   ],
   "source": [
    "dep.head(12)"
   ]
  },
  {
   "cell_type": "code",
   "execution_count": 26,
   "metadata": {},
   "outputs": [
    {
     "data": {
      "text/plain": [
       "86"
      ]
     },
     "execution_count": 26,
     "metadata": {},
     "output_type": "execute_result"
    }
   ],
   "source": [
    "#checking for duplicated posts\n",
    "dep.duplicated().sum()"
   ]
  },
  {
   "cell_type": "code",
   "execution_count": 28,
   "metadata": {},
   "outputs": [],
   "source": [
    "#dropping duplicates\n",
    "dep = dep.drop_duplicates()"
   ]
  },
  {
   "cell_type": "code",
   "execution_count": 29,
   "metadata": {},
   "outputs": [
    {
     "data": {
      "text/plain": [
       "(46056, 2)"
      ]
     },
     "execution_count": 29,
     "metadata": {},
     "output_type": "execute_result"
    }
   ],
   "source": [
    "dep.shape"
   ]
  },
  {
   "cell_type": "code",
   "execution_count": 30,
   "metadata": {},
   "outputs": [],
   "source": [
    "dep.to_csv('../data/dep_clean.csv', index=False)"
   ]
  },
  {
   "cell_type": "code",
   "execution_count": null,
   "metadata": {},
   "outputs": [],
   "source": []
  }
 ],
 "metadata": {
  "kernelspec": {
   "display_name": "Python 3",
   "language": "python",
   "name": "python3"
  },
  "language_info": {
   "codemirror_mode": {
    "name": "ipython",
    "version": 3
   },
   "file_extension": ".py",
   "mimetype": "text/x-python",
   "name": "python",
   "nbconvert_exporter": "python",
   "pygments_lexer": "ipython3",
   "version": "3.7.4"
  }
 },
 "nbformat": 4,
 "nbformat_minor": 2
}
