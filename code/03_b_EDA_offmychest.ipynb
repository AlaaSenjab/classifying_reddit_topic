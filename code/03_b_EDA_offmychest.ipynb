{
 "cells": [
  {
   "cell_type": "markdown",
   "metadata": {},
   "source": [
    "## Importing Libraries"
   ]
  },
  {
   "cell_type": "code",
   "execution_count": 146,
   "metadata": {},
   "outputs": [],
   "source": [
    "import pandas as pd\n",
    "import numpy as np"
   ]
  },
  {
   "cell_type": "markdown",
   "metadata": {},
   "source": [
    "## Reading The Data"
   ]
  },
  {
   "cell_type": "code",
   "execution_count": 115,
   "metadata": {},
   "outputs": [],
   "source": [
    "#reading the data\n",
    "offmychest = pd.read_csv('../data/offmychest.csv')\n"
   ]
  },
  {
   "cell_type": "code",
   "execution_count": 116,
   "metadata": {},
   "outputs": [
    {
     "data": {
      "text/plain": [
       "(50000, 9)"
      ]
     },
     "execution_count": 116,
     "metadata": {},
     "output_type": "execute_result"
    }
   ],
   "source": [
    "#shape\n",
    "offmychest.shape"
   ]
  },
  {
   "cell_type": "code",
   "execution_count": 117,
   "metadata": {
    "scrolled": true
   },
   "outputs": [
    {
     "data": {
      "text/html": [
       "<div>\n",
       "<style scoped>\n",
       "    .dataframe tbody tr th:only-of-type {\n",
       "        vertical-align: middle;\n",
       "    }\n",
       "\n",
       "    .dataframe tbody tr th {\n",
       "        vertical-align: top;\n",
       "    }\n",
       "\n",
       "    .dataframe thead th {\n",
       "        text-align: right;\n",
       "    }\n",
       "</style>\n",
       "<table border=\"1\" class=\"dataframe\">\n",
       "  <thead>\n",
       "    <tr style=\"text-align: right;\">\n",
       "      <th></th>\n",
       "      <th>title</th>\n",
       "      <th>selftext</th>\n",
       "      <th>subreddit</th>\n",
       "      <th>created_utc</th>\n",
       "      <th>author</th>\n",
       "      <th>num_comments</th>\n",
       "      <th>score</th>\n",
       "      <th>is_self</th>\n",
       "      <th>timestamp</th>\n",
       "    </tr>\n",
       "  </thead>\n",
       "  <tbody>\n",
       "    <tr>\n",
       "      <td>0</td>\n",
       "      <td>i don’t think anyone would miss me if i was go...</td>\n",
       "      <td>i don’t need help, i’ve been dealing with this...</td>\n",
       "      <td>offmychest</td>\n",
       "      <td>1570989983</td>\n",
       "      <td>aliciaclarkes</td>\n",
       "      <td>1</td>\n",
       "      <td>1</td>\n",
       "      <td>True</td>\n",
       "      <td>2019-10-13</td>\n",
       "    </tr>\n",
       "    <tr>\n",
       "      <td>1</td>\n",
       "      <td>I think I was in an abusive relationship</td>\n",
       "      <td>[removed]</td>\n",
       "      <td>offmychest</td>\n",
       "      <td>1570990028</td>\n",
       "      <td>driftingdreamsss</td>\n",
       "      <td>0</td>\n",
       "      <td>1</td>\n",
       "      <td>True</td>\n",
       "      <td>2019-10-13</td>\n",
       "    </tr>\n",
       "    <tr>\n",
       "      <td>2</td>\n",
       "      <td>Shall I just smile and keep acting?</td>\n",
       "      <td>It’s been some time that I’m use to not having...</td>\n",
       "      <td>offmychest</td>\n",
       "      <td>1570990061</td>\n",
       "      <td>simplelibra</td>\n",
       "      <td>8</td>\n",
       "      <td>1</td>\n",
       "      <td>True</td>\n",
       "      <td>2019-10-13</td>\n",
       "    </tr>\n",
       "    <tr>\n",
       "      <td>3</td>\n",
       "      <td>I'm so bored with this life</td>\n",
       "      <td>For the past few weeks I've been feeling so bo...</td>\n",
       "      <td>offmychest</td>\n",
       "      <td>1570990741</td>\n",
       "      <td>_Butter_bean_</td>\n",
       "      <td>0</td>\n",
       "      <td>1</td>\n",
       "      <td>True</td>\n",
       "      <td>2019-10-13</td>\n",
       "    </tr>\n",
       "    <tr>\n",
       "      <td>4</td>\n",
       "      <td>Today we welcomed a little baby boy into our w...</td>\n",
       "      <td>So five hours ago, me (22M) and my boyfriend (...</td>\n",
       "      <td>offmychest</td>\n",
       "      <td>1570990792</td>\n",
       "      <td>AlternativeShame8</td>\n",
       "      <td>4</td>\n",
       "      <td>1</td>\n",
       "      <td>True</td>\n",
       "      <td>2019-10-13</td>\n",
       "    </tr>\n",
       "  </tbody>\n",
       "</table>\n",
       "</div>"
      ],
      "text/plain": [
       "                                               title  \\\n",
       "0  i don’t think anyone would miss me if i was go...   \n",
       "1           I think I was in an abusive relationship   \n",
       "2                Shall I just smile and keep acting?   \n",
       "3                        I'm so bored with this life   \n",
       "4  Today we welcomed a little baby boy into our w...   \n",
       "\n",
       "                                            selftext   subreddit  created_utc  \\\n",
       "0  i don’t need help, i’ve been dealing with this...  offmychest   1570989983   \n",
       "1                                          [removed]  offmychest   1570990028   \n",
       "2  It’s been some time that I’m use to not having...  offmychest   1570990061   \n",
       "3  For the past few weeks I've been feeling so bo...  offmychest   1570990741   \n",
       "4  So five hours ago, me (22M) and my boyfriend (...  offmychest   1570990792   \n",
       "\n",
       "              author  num_comments  score  is_self   timestamp  \n",
       "0      aliciaclarkes             1      1     True  2019-10-13  \n",
       "1   driftingdreamsss             0      1     True  2019-10-13  \n",
       "2        simplelibra             8      1     True  2019-10-13  \n",
       "3      _Butter_bean_             0      1     True  2019-10-13  \n",
       "4  AlternativeShame8             4      1     True  2019-10-13  "
      ]
     },
     "execution_count": 117,
     "metadata": {},
     "output_type": "execute_result"
    }
   ],
   "source": [
    "offmychest.head()"
   ]
  },
  {
   "cell_type": "markdown",
   "metadata": {},
   "source": [
    "## EDA"
   ]
  },
  {
   "cell_type": "code",
   "execution_count": 118,
   "metadata": {},
   "outputs": [
    {
     "data": {
      "text/plain": [
       "3993"
      ]
     },
     "execution_count": 118,
     "metadata": {},
     "output_type": "execute_result"
    }
   ],
   "source": [
    "#some posts were removed\n",
    "#let's see how many are these\n",
    "(offmychest['selftext'] == \"[removed]\").sum()"
   ]
  },
  {
   "cell_type": "code",
   "execution_count": 119,
   "metadata": {},
   "outputs": [],
   "source": [
    "#dropping the rows where the posts are removed\n",
    "offmychest = offmychest[offmychest['selftext'] != \"[removed]\"]"
   ]
  },
  {
   "cell_type": "code",
   "execution_count": 120,
   "metadata": {},
   "outputs": [
    {
     "data": {
      "text/plain": [
       "301"
      ]
     },
     "execution_count": 120,
     "metadata": {},
     "output_type": "execute_result"
    }
   ],
   "source": [
    "#checking the number of missing values (null) in 'selftext'\n",
    "offmychest['selftext'].isnull().sum()"
   ]
  },
  {
   "cell_type": "code",
   "execution_count": 121,
   "metadata": {},
   "outputs": [
    {
     "data": {
      "text/plain": [
       "0"
      ]
     },
     "execution_count": 121,
     "metadata": {},
     "output_type": "execute_result"
    }
   ],
   "source": [
    "#checking the number of missing values (null) in 'title'\n",
    "offmychest['title'].isnull().sum()"
   ]
  },
  {
   "cell_type": "markdown",
   "metadata": {},
   "source": [
    "I am planning on joning the title and the selftext into one feature. Before i do that i need to change the nan values into an str datatype so they could be joined. ('some string' + np.nan = nan)"
   ]
  },
  {
   "cell_type": "code",
   "execution_count": 122,
   "metadata": {},
   "outputs": [],
   "source": [
    "#filling nan values with an empty string\n",
    "offmychest['selftext'].fillna(\"\", inplace=True)\n",
    "offmychest['title'].fillna(\"\", inplace=True)"
   ]
  },
  {
   "cell_type": "code",
   "execution_count": 123,
   "metadata": {},
   "outputs": [],
   "source": [
    "#now joining the two columns\n",
    "offmychest['selftext'] = offmychest['title'] + ' ' + offmychest['selftext']"
   ]
  },
  {
   "cell_type": "code",
   "execution_count": 147,
   "metadata": {},
   "outputs": [
    {
     "data": {
      "text/html": [
       "<div>\n",
       "<style scoped>\n",
       "    .dataframe tbody tr th:only-of-type {\n",
       "        vertical-align: middle;\n",
       "    }\n",
       "\n",
       "    .dataframe tbody tr th {\n",
       "        vertical-align: top;\n",
       "    }\n",
       "\n",
       "    .dataframe thead th {\n",
       "        text-align: right;\n",
       "    }\n",
       "</style>\n",
       "<table border=\"1\" class=\"dataframe\">\n",
       "  <thead>\n",
       "    <tr style=\"text-align: right;\">\n",
       "      <th></th>\n",
       "      <th>selftext</th>\n",
       "      <th>subreddit</th>\n",
       "    </tr>\n",
       "  </thead>\n",
       "  <tbody>\n",
       "    <tr>\n",
       "      <td>0</td>\n",
       "      <td>i don’t think anyone would miss me if i was go...</td>\n",
       "      <td>1</td>\n",
       "    </tr>\n",
       "    <tr>\n",
       "      <td>2</td>\n",
       "      <td>Shall I just smile and keep acting? It’s been ...</td>\n",
       "      <td>1</td>\n",
       "    </tr>\n",
       "    <tr>\n",
       "      <td>3</td>\n",
       "      <td>I'm so bored with this life For the past few w...</td>\n",
       "      <td>1</td>\n",
       "    </tr>\n",
       "    <tr>\n",
       "      <td>4</td>\n",
       "      <td>Today we welcomed a little baby boy into our w...</td>\n",
       "      <td>1</td>\n",
       "    </tr>\n",
       "    <tr>\n",
       "      <td>5</td>\n",
       "      <td>I will always be the quiet girl. Sorry this is...</td>\n",
       "      <td>1</td>\n",
       "    </tr>\n",
       "  </tbody>\n",
       "</table>\n",
       "</div>"
      ],
      "text/plain": [
       "                                            selftext  subreddit\n",
       "0  i don’t think anyone would miss me if i was go...          1\n",
       "2  Shall I just smile and keep acting? It’s been ...          1\n",
       "3  I'm so bored with this life For the past few w...          1\n",
       "4  Today we welcomed a little baby boy into our w...          1\n",
       "5  I will always be the quiet girl. Sorry this is...          1"
      ]
     },
     "execution_count": 147,
     "metadata": {},
     "output_type": "execute_result"
    }
   ],
   "source": [
    "offmychest.head()"
   ]
  },
  {
   "cell_type": "code",
   "execution_count": 125,
   "metadata": {},
   "outputs": [],
   "source": [
    "#i will drop the title and is_self columns now\n",
    "offmychest.drop(['title','timestamp', 'is_self', 'num_comments', 'author','created_utc', 'score'], axis =1, inplace=True)"
   ]
  },
  {
   "cell_type": "code",
   "execution_count": 148,
   "metadata": {},
   "outputs": [
    {
     "data": {
      "text/html": [
       "<div>\n",
       "<style scoped>\n",
       "    .dataframe tbody tr th:only-of-type {\n",
       "        vertical-align: middle;\n",
       "    }\n",
       "\n",
       "    .dataframe tbody tr th {\n",
       "        vertical-align: top;\n",
       "    }\n",
       "\n",
       "    .dataframe thead th {\n",
       "        text-align: right;\n",
       "    }\n",
       "</style>\n",
       "<table border=\"1\" class=\"dataframe\">\n",
       "  <thead>\n",
       "    <tr style=\"text-align: right;\">\n",
       "      <th></th>\n",
       "      <th>selftext</th>\n",
       "      <th>subreddit</th>\n",
       "    </tr>\n",
       "  </thead>\n",
       "  <tbody>\n",
       "    <tr>\n",
       "      <td>0</td>\n",
       "      <td>i don’t think anyone would miss me if i was go...</td>\n",
       "      <td>1</td>\n",
       "    </tr>\n",
       "    <tr>\n",
       "      <td>2</td>\n",
       "      <td>Shall I just smile and keep acting? It’s been ...</td>\n",
       "      <td>1</td>\n",
       "    </tr>\n",
       "    <tr>\n",
       "      <td>3</td>\n",
       "      <td>I'm so bored with this life For the past few w...</td>\n",
       "      <td>1</td>\n",
       "    </tr>\n",
       "    <tr>\n",
       "      <td>4</td>\n",
       "      <td>Today we welcomed a little baby boy into our w...</td>\n",
       "      <td>1</td>\n",
       "    </tr>\n",
       "    <tr>\n",
       "      <td>5</td>\n",
       "      <td>I will always be the quiet girl. Sorry this is...</td>\n",
       "      <td>1</td>\n",
       "    </tr>\n",
       "  </tbody>\n",
       "</table>\n",
       "</div>"
      ],
      "text/plain": [
       "                                            selftext  subreddit\n",
       "0  i don’t think anyone would miss me if i was go...          1\n",
       "2  Shall I just smile and keep acting? It’s been ...          1\n",
       "3  I'm so bored with this life For the past few w...          1\n",
       "4  Today we welcomed a little baby boy into our w...          1\n",
       "5  I will always be the quiet girl. Sorry this is...          1"
      ]
     },
     "execution_count": 148,
     "metadata": {},
     "output_type": "execute_result"
    }
   ],
   "source": [
    "offmychest.head()"
   ]
  },
  {
   "cell_type": "code",
   "execution_count": 149,
   "metadata": {},
   "outputs": [
    {
     "data": {
      "text/plain": [
       "0"
      ]
     },
     "execution_count": 149,
     "metadata": {},
     "output_type": "execute_result"
    }
   ],
   "source": [
    "#lets check the missing values in 'subreddit'\n",
    "offmychest['subreddit'].isnull().sum()"
   ]
  },
  {
   "cell_type": "code",
   "execution_count": 150,
   "metadata": {},
   "outputs": [
    {
     "data": {
      "text/plain": [
       "1    45920\n",
       "Name: subreddit, dtype: int64"
      ]
     },
     "execution_count": 150,
     "metadata": {},
     "output_type": "execute_result"
    }
   ],
   "source": [
    "#other values\n",
    "offmychest['subreddit'].value_counts()"
   ]
  },
  {
   "cell_type": "markdown",
   "metadata": {},
   "source": [
    "All these posts were taken from the same subreddit so i will fill the column with one. one here mean that the person is just sad and not depressed"
   ]
  },
  {
   "cell_type": "code",
   "execution_count": 131,
   "metadata": {},
   "outputs": [],
   "source": [
    "offmychest['subreddit'] = 1"
   ]
  },
  {
   "cell_type": "code",
   "execution_count": 132,
   "metadata": {
    "scrolled": true
   },
   "outputs": [
    {
     "data": {
      "text/plain": [
       "1    46007\n",
       "Name: subreddit, dtype: int64"
      ]
     },
     "execution_count": 132,
     "metadata": {},
     "output_type": "execute_result"
    }
   ],
   "source": [
    "offmychest['subreddit'].value_counts()"
   ]
  },
  {
   "cell_type": "code",
   "execution_count": 133,
   "metadata": {},
   "outputs": [
    {
     "data": {
      "text/plain": [
       "0"
      ]
     },
     "execution_count": 133,
     "metadata": {},
     "output_type": "execute_result"
    }
   ],
   "source": [
    "#no more missing values\n",
    "offmychest.isnull().sum().sum()"
   ]
  },
  {
   "cell_type": "code",
   "execution_count": 134,
   "metadata": {
    "scrolled": true
   },
   "outputs": [
    {
     "data": {
      "text/html": [
       "<div>\n",
       "<style scoped>\n",
       "    .dataframe tbody tr th:only-of-type {\n",
       "        vertical-align: middle;\n",
       "    }\n",
       "\n",
       "    .dataframe tbody tr th {\n",
       "        vertical-align: top;\n",
       "    }\n",
       "\n",
       "    .dataframe thead th {\n",
       "        text-align: right;\n",
       "    }\n",
       "</style>\n",
       "<table border=\"1\" class=\"dataframe\">\n",
       "  <thead>\n",
       "    <tr style=\"text-align: right;\">\n",
       "      <th></th>\n",
       "      <th>selftext</th>\n",
       "      <th>subreddit</th>\n",
       "    </tr>\n",
       "  </thead>\n",
       "  <tbody>\n",
       "    <tr>\n",
       "      <td>0</td>\n",
       "      <td>i don’t think anyone would miss me if i was go...</td>\n",
       "      <td>1</td>\n",
       "    </tr>\n",
       "    <tr>\n",
       "      <td>2</td>\n",
       "      <td>Shall I just smile and keep acting? It’s been ...</td>\n",
       "      <td>1</td>\n",
       "    </tr>\n",
       "    <tr>\n",
       "      <td>3</td>\n",
       "      <td>I'm so bored with this life For the past few w...</td>\n",
       "      <td>1</td>\n",
       "    </tr>\n",
       "    <tr>\n",
       "      <td>4</td>\n",
       "      <td>Today we welcomed a little baby boy into our w...</td>\n",
       "      <td>1</td>\n",
       "    </tr>\n",
       "    <tr>\n",
       "      <td>5</td>\n",
       "      <td>I will always be the quiet girl. Sorry this is...</td>\n",
       "      <td>1</td>\n",
       "    </tr>\n",
       "    <tr>\n",
       "      <td>6</td>\n",
       "      <td>We are thinkimg of rehoming our dog We got him...</td>\n",
       "      <td>1</td>\n",
       "    </tr>\n",
       "    <tr>\n",
       "      <td>7</td>\n",
       "      <td>Is she serious? I’m a 16 year old girl in high...</td>\n",
       "      <td>1</td>\n",
       "    </tr>\n",
       "    <tr>\n",
       "      <td>8</td>\n",
       "      <td>I am only beautiful in the dark I kissed a guy...</td>\n",
       "      <td>1</td>\n",
       "    </tr>\n",
       "    <tr>\n",
       "      <td>9</td>\n",
       "      <td>Fed up with data driven campaign There has bee...</td>\n",
       "      <td>1</td>\n",
       "    </tr>\n",
       "    <tr>\n",
       "      <td>10</td>\n",
       "      <td>I attempted suicide two days ago. I haven't to...</td>\n",
       "      <td>1</td>\n",
       "    </tr>\n",
       "    <tr>\n",
       "      <td>11</td>\n",
       "      <td>Bottled thoughts I'm fairly new to reddit so f...</td>\n",
       "      <td>1</td>\n",
       "    </tr>\n",
       "    <tr>\n",
       "      <td>12</td>\n",
       "      <td>I hate myself for this😡😡 I don't know why I do...</td>\n",
       "      <td>1</td>\n",
       "    </tr>\n",
       "  </tbody>\n",
       "</table>\n",
       "</div>"
      ],
      "text/plain": [
       "                                             selftext  subreddit\n",
       "0   i don’t think anyone would miss me if i was go...          1\n",
       "2   Shall I just smile and keep acting? It’s been ...          1\n",
       "3   I'm so bored with this life For the past few w...          1\n",
       "4   Today we welcomed a little baby boy into our w...          1\n",
       "5   I will always be the quiet girl. Sorry this is...          1\n",
       "6   We are thinkimg of rehoming our dog We got him...          1\n",
       "7   Is she serious? I’m a 16 year old girl in high...          1\n",
       "8   I am only beautiful in the dark I kissed a guy...          1\n",
       "9   Fed up with data driven campaign There has bee...          1\n",
       "10  I attempted suicide two days ago. I haven't to...          1\n",
       "11  Bottled thoughts I'm fairly new to reddit so f...          1\n",
       "12  I hate myself for this😡😡 I don't know why I do...          1"
      ]
     },
     "execution_count": 134,
     "metadata": {},
     "output_type": "execute_result"
    }
   ],
   "source": [
    "offmychest.head(12)"
   ]
  },
  {
   "cell_type": "code",
   "execution_count": 135,
   "metadata": {},
   "outputs": [
    {
     "data": {
      "text/plain": [
       "87"
      ]
     },
     "execution_count": 135,
     "metadata": {},
     "output_type": "execute_result"
    }
   ],
   "source": [
    "#checking for duplicated posts\n",
    "offmychest.duplicated().sum()"
   ]
  },
  {
   "cell_type": "code",
   "execution_count": 136,
   "metadata": {},
   "outputs": [
    {
     "data": {
      "text/plain": [
       "0"
      ]
     },
     "execution_count": 136,
     "metadata": {},
     "output_type": "execute_result"
    }
   ],
   "source": [
    "#dropping duplicates\n",
    "offmychest = offmychest.drop_duplicates()\n",
    "offmychest.duplicated().sum()"
   ]
  },
  {
   "cell_type": "code",
   "execution_count": 137,
   "metadata": {},
   "outputs": [],
   "source": [
    "offmychest.to_csv('../data/offmychest_clean.csv', index=False)"
   ]
  },
  {
   "cell_type": "markdown",
   "metadata": {},
   "source": [
    "## Extra.."
   ]
  },
  {
   "cell_type": "markdown",
   "metadata": {},
   "source": [
    "There are emojis in my text. I dont know how they will get treated in the classifier, but i will see what i got"
   ]
  },
  {
   "cell_type": "code",
   "execution_count": 23,
   "metadata": {},
   "outputs": [],
   "source": [
    "#pip install emoji"
   ]
  },
  {
   "cell_type": "code",
   "execution_count": 138,
   "metadata": {},
   "outputs": [],
   "source": [
    "import emoji"
   ]
  },
  {
   "cell_type": "code",
   "execution_count": 139,
   "metadata": {
    "scrolled": true
   },
   "outputs": [],
   "source": [
    "#Search for emojis in each row and creats a dataframe with the corresponding index\n",
    "# number for each of the one that have emojis\n",
    "\n",
    "\n",
    "data = []\n",
    "ind = []\n",
    "for i in offmychest['selftext'].index: #loops over each row\n",
    "    try:\n",
    "        #creates a list of emojis for each rowa that has emojis\n",
    "        s  = [c for c in offmychest['selftext'][i] if c in emoji.UNICODE_EMOJI]\n",
    "        if s != []:\n",
    "            s = \"\".join(s)\n",
    "        \n",
    "            data.append([i, s]) #for the dataframe\n",
    "            ind.append(i)\n",
    "    except:\n",
    "        raise\n",
    "        "
   ]
  },
  {
   "cell_type": "code",
   "execution_count": 140,
   "metadata": {},
   "outputs": [],
   "source": [
    "#creates a dataframe out of the emojis \n",
    "\n",
    "emojis = pd.DataFrame(data, columns = ['index', 'emoji'])\n",
    "emojis.set_index('index', inplace=True)"
   ]
  },
  {
   "cell_type": "code",
   "execution_count": 143,
   "metadata": {
    "scrolled": true
   },
   "outputs": [
    {
     "data": {
      "text/html": [
       "<div>\n",
       "<style scoped>\n",
       "    .dataframe tbody tr th:only-of-type {\n",
       "        vertical-align: middle;\n",
       "    }\n",
       "\n",
       "    .dataframe tbody tr th {\n",
       "        vertical-align: top;\n",
       "    }\n",
       "\n",
       "    .dataframe thead th {\n",
       "        text-align: right;\n",
       "    }\n",
       "</style>\n",
       "<table border=\"1\" class=\"dataframe\">\n",
       "  <thead>\n",
       "    <tr style=\"text-align: right;\">\n",
       "      <th></th>\n",
       "      <th>emoji</th>\n",
       "    </tr>\n",
       "    <tr>\n",
       "      <th>index</th>\n",
       "      <th></th>\n",
       "    </tr>\n",
       "  </thead>\n",
       "  <tbody>\n",
       "    <tr>\n",
       "      <td>7</td>\n",
       "      <td>❤</td>\n",
       "    </tr>\n",
       "    <tr>\n",
       "      <td>12</td>\n",
       "      <td>😡😡☹☹🙏🙏🙏🤪🤪</td>\n",
       "    </tr>\n",
       "    <tr>\n",
       "      <td>86</td>\n",
       "      <td>💛</td>\n",
       "    </tr>\n",
       "    <tr>\n",
       "      <td>181</td>\n",
       "      <td>😡</td>\n",
       "    </tr>\n",
       "    <tr>\n",
       "      <td>214</td>\n",
       "      <td>™</td>\n",
       "    </tr>\n",
       "    <tr>\n",
       "      <td>292</td>\n",
       "      <td>🐒</td>\n",
       "    </tr>\n",
       "    <tr>\n",
       "      <td>373</td>\n",
       "      <td>😭😭</td>\n",
       "    </tr>\n",
       "    <tr>\n",
       "      <td>414</td>\n",
       "      <td>🤡😌🤪💀</td>\n",
       "    </tr>\n",
       "    <tr>\n",
       "      <td>463</td>\n",
       "      <td>❤</td>\n",
       "    </tr>\n",
       "    <tr>\n",
       "      <td>476</td>\n",
       "      <td>😅</td>\n",
       "    </tr>\n",
       "  </tbody>\n",
       "</table>\n",
       "</div>"
      ],
      "text/plain": [
       "           emoji\n",
       "index           \n",
       "7              ❤\n",
       "12     😡😡☹☹🙏🙏🙏🤪🤪\n",
       "86             💛\n",
       "181            😡\n",
       "214            ™\n",
       "292            🐒\n",
       "373           😭😭\n",
       "414         🤡😌🤪💀\n",
       "463            ❤\n",
       "476            😅"
      ]
     },
     "execution_count": 143,
     "metadata": {},
     "output_type": "execute_result"
    }
   ],
   "source": [
    "emojis.head(10)"
   ]
  },
  {
   "cell_type": "code",
   "execution_count": 145,
   "metadata": {},
   "outputs": [
    {
     "data": {
      "text/plain": [
       "962"
      ]
     },
     "execution_count": 145,
     "metadata": {},
     "output_type": "execute_result"
    }
   ],
   "source": [
    "len(ind)"
   ]
  },
  {
   "cell_type": "code",
   "execution_count": 166,
   "metadata": {},
   "outputs": [
    {
     "name": "stdout",
     "output_type": "stream",
     "text": [
      "❤😡😡☹☹🙏🙏🙏🤪🤪💛😡™🐒😭😭🤡😌🤪💀❤😅😭💕❤🥰✌😂😭🤷🏻♀❤❤❤❤❤❤❤❤❤❤❤❤❤❤❤😊🤷🏻♂❤🦁🦌😉💕🇨🇦😘🍁🍂😔🤦🏽♀🤷♀😭🖤😭🤞😩🤞😢😭🤞😩🤞😢❤😔😉🤢🤮😫😂❤😡😔😉🤦♀😼👉🏼👌🏼💦😩😔😩😩🤯🤯🤯👔⚠⚠♥😭😓😭😭😣❤😪❤🤷♂🥺🥺🥺❤💗💗❤💙💙😂🌙✌🏿👔❤😂🧡😂🧡🤷🏻♀😁🚪❤✊✨❤✨☹🤦🏽♂🤦🏼♂🤦🏼♀🤦🏼♀🤦🏼♀👇🏻😔🤦🏼♀🤦🏼♀🤦🏼♀🤦🏼♀🤔❤❤❤❤❤❤❤❤😥😥😂❤😂🙂🥰😘🙄❤❤❤👌🏻💪🏻🙄🙄🤢🤮🍻😍❤❤😅✨✨💓😍😏😍😭❤🖤💘❤😡😔🙄😅❤😂😭🤔😅🍻🍺🍻😂😂🙄😂😂🤔😭😢😢❤🤢❤❤❤❤❤❤❤❤❤❤🎉🎉🎉🎉🎉🖤🥴❤😠😊🎃😃🥳🥳🥳🥳🎉🎉🎉🙌😁😘💔🤷♂❤🦋❤⚠⚠✌🏻😚😔😔😔😥💜💙💜👋👋👋😐🙄💔✔✔😅💕💕💕🤗😒😭😥😔😓😊😊🥺❤💖❤❤🥺❤🍻✌🖕🏻🙄💀💀💁🏼♀🤰💛🌄🌅🌇🙃😡😳😭💗😫😅👀✌😪💓😂😂😂😂😂😂😂😔😂😂😂😂😊😞😞👋🏻😕❤💙🌹😕🔥😔😣😪🥺🙃🙃👍🏻📷❤💚❤😞😞😪🤭😪😂😱☺👏👏👏👏👏👏👏👏👏👏👏👏👏👏👏👏👏👏👏👏👏👏👏👏👏👏👏👏👏👏👏™❤😂😂🤥🤕😓💜🥺🤗🤪❤🖖🤪😍😭😭😭😭😭😞😞🤷🏼♀💛😶💫🍁💙🌹🥀♥❤😔😔🙂😁😬❤😣📷😪🙄😣💩😡😂😊👩🦱🤦♀🤦🏻♀🤦🏻♀😎💖❤❤🤦♀🤷🏾♀🤔🤦♂🥺😓❤😭😭😍😍💖😍😍😍💙😭😭😭😭😭❤🍂🍁🎃👻🎃👻🍁🍂🍁🍂☕❤😍💦👅😍😂❤😍💜😄😞😞😞😞🙄😫💕😐♥👋👋👋🙁😔👀🤢🤮👋🏳🌈❤🤯😷☺😭😔😪😬😱😢😅😭😂🙁✌🏼😢☹😢🥰☹💔😭😭😭😭😭😭😭😭😭😪😯😯😑😑⚠⚠⚠⚠⚠⚠⚠⚠🤷🏻♀😂🤣🤣😫🤦🏼♀😝😝😁😁😁😂😂😂😂🙄😔😢😢🙏💙😊🖤🤦♂▪▪▪▪▪▪▪▪▪▪♥❤😁😁☹😞♥♥♥♥🤦🏻♀😐😡😡😡☹💯🤔☹😔😥🙄😩😥🤷🏼♀😪😞✌♥😰🙅🤯🤷❤❤🥰🙂🙄🙄🙄🙄🤧❤💕🧡🙄☺💋🤷🏻♀😕❤🙄🤷🏼♀❤😅🤙😂💗❤🥰❤😞✌🏻❤🇩🇴😔👍🏼💩🙂😂♥💖😂❤❤😂😂🙄🙄😭😭😭❤™™™😀💖💖💖💖💖💖😭😢😥😭😂😩🙌🤗😊😭😉😭💲💲🤷🏾♂➡🤪😂😂😂😂😂😂😂😢😡😭🚩😒😂❤🤔😂☺🙃❤😂😂😂😂🙈💛🤷🏽♀😍😍😍🥰😘💕😻❤😭😈🙄🙄🙄🙄🙄🙄😭😂🤣😭😭🤣😂😅🤣🤷🏻♀™™™🌸🌺🤦🏾♀🤦🏾♀😡😂😂😋⚠😂🤡🌸🌺😡🙄😢😑🙄😔⚠⚠⚠⚠⚠⚠❤❣😑💙😭😘😘😘😂🖤😂🥰😏❤™😢😶😂🥁😁😂🤦♀😭😩🙄❤🙏❤💚🐕🐛🌺😀❤👣😅✌🏽🤯😴😴😴😴😴😴😴😴😴😴😴🤬😁😌😑😴😴👨🍳👨💻🤷♂🤯❌🍆💦😩😩😩😩😤😤🤯🇨🇳🇨🇳😰😢🤷🏻♀⚠⚠⚠⚠⚠❤🤷😪😭😭😭😭😭😪😅❤✌♥🖤😢🤞🏼🤦🏾♀🥺😔😔💩💩😊❤😁💔💔😠😡😂😂😖😂🤣😜🤣🤣🤣🤣⚫⚪😒🇭🇰🇭🇰😑❤😪😅😂🙆🏻♂😇😘😝😘😉😂🏀♥😍☺😞😅😑🌈😭😭😭😭😬🥺😳😡🙄🤦🏻♀😂😂🤡🤡🤡🇨🇦😆🙄🙄✌❤😅🤔😊😊🇺🇸🇺🇸😝🕷🕷🕷🕷🕷🕷🕷🕷🕷🕷🕷🕷🕷🕷🕷🕷🕷🕷🕷🕷🕷🕷🕷🕷🕷🕷🕷🕷😴😴😴😭🙃💕👏👏👏👏👏🤷🤷🏽♀😂😂😂😂😂😂😂😂😂😂😂😂😂😂😂😂😂😂😂😂😂😂😂😂😂😂😂😂😂😂😂😂😂😂😂😂😂😂😂😂😂😂😂😂😂😂😂😂😂😂😂😂😂😂😂😂😂😂😂😂😂😂😂😂😂😂😂😂😂🙄🤤😍😂😂😂❤😐😐🤞🙏✌♥😂🤷✌🤣😍™💛😊☹😬😏😉😉😂😂😂🙃😭😍😔❤🤷🏽♀🤷🏻♀🤷🏻♀❤🖤😳😅😞😕😔😢❤❤😎🤠✌🥴🤷🏼♀😂🙁❤🧱🧱🧱❤❤❤😱😅❤🤷♀🥳🤦🏻♂🤦🏻♂💕🍑❤😔😭❤😭🤷🙏🙂😃🥰🤣👊💪❤🙃🤷🏽♀😒😊🙂🙃❤🤣🤣🙄🤷🏼♀🤷🏼♀🤷🏼♀🔥🔥😌😂❤🥺🤷🏻♀👋🏼❤😭🤔❤🙁👼💞😟🙃😬🤮🤢😳❤👌🏻👌🤷🤷😑❤♥💖🎂👋🏻🙃🙏🏽😭🍑👽👽🙃♥😔👀🙈🙉🙊😢😖🛎😶😉🙄🌚❤😂😖🤔❤🍀❤🤷♂😭😔🥰♥😔🙃❤❤🍑😂😟🤮😩🙄🙄😫🦁😫🙏🙏🙏🙏🙏🙏🙏🙏⭐⭐⭐⭐⭐😫😫🙏❤❤❤❤❤❤❤❤❤❤❤❤❤❤❤❤❤❤❤❤❤❤💞💯👌🗝⚖🙏👏🤞😂😫🦁😫🙏🙏🙏🙏🙏🙏🙏🙏⭐⭐⭐⭐⭐🥺🙏❤❤❤❤❤❤❤❤❤❤❤❤❤❤❤❤❤❤❤❤❤❤🍑🎈♥🤞😅🙄😰🤣💩😢😂😭😭😘🤷♂😭😭😭⬇😠🤷♂❤❤❤❤🥰😅❤☺😞👍🏼👎🏻❤💔❤🙏😞🚩💕♥🙃☹😭💔🙄✌🤪💁♀🥺🥺🥺😘👌🏻🙂❣🎉💔😭🥰💙👍😊😊😊😁🤢😭😂❤❤🤪💔😔😔😕🤮😬😂🦠🤷🏻♂❤😂😂😂🤦🏻♂✌🏻😔😡🤦🏽♀💋💔♥🌬🌊🥰❤✌🌍🍓🍄🐸👅🐥🤷🏿♂😂😳😤😍😍😍😍😅😑😭🤔🙄🤷🏽♀🙈😭😭☺😑🎵🎵❤😭😭😭😔💜☹🤠🤠🤠♥🤞🏼💕💥🔫🤪😥😎😞🙄🤬🤬🤬🤬🤬🤬🤬🤬🤬🤬🤬🤬🤬🤬🤬🤬🤬🤬🤬🤬🤬🤬😂😂😂☺🥳🥰😊😊😊😐😞😞😔🙄🍆🍆😅😅🙄🙄🙄✌😔❤❤🎶🎶💔🙏🙌🏼❤®®🙄😭😭🙄😒😅😔😔😅😔❤🙄😢😭😞🙏😭😒👍🏻🚶♂❤😢🤦♀🤦🏽♀🤦🏻♀❤✋🏽🥺☺🤷🏻♀😊🤷♂🤦🏼♂😂❤❤🥰💕😢🤷♂🙄❤❤🥳😁✌💫🤷♀🙄🙄💔😂🤦🏻♂😞👋🤦🏻♂❤😴😔☺😆🤷🏻♂🤦🏻♀❤💖❤💖💖❤💖❤💖❤💖❤💖🙃🙃😘😘😘😘😘😘😘😘😘😘😘😘😘😘😘😘😘😘😘😘😘😘😘😂😭💕😂❤😃😭😭😄😄😂💀💀💀😭🌚😂😱😊😊😁😁😁😔😔😝🤷🏻♂😂😂😂💔👍🏼😪😁🤣🤣🤣✌😪😑❤❤💙🥳❤😬😂😂😭😭😭😭😂😂💜💜🙄💜💜💜💜✌🏼😭😭😭🤷🗑🦄🙄❤❤❤😔😔👀👀👀👀👀🗣😑😭🤣😂🤣😂🤣😂☺😂🤣😅🤷🏾♀❤🎂🙃😓❤🧡💛💚💙💜😂💜💜🙄😩😩🥺🥺☹☺😠🖤🖤🖤🖤🖤🖤♥💙💜💙💜💙💜💙💜💙💜💙💜💙💜💙💜💙💜💙💜💙💜💙💗💗💗❤👋🥺😂😌😁🗑💰🤦🏾♀😳😔😢❤™🙄😭😭😭🌲🍰😳™😭💖💖😭🤷♂😭😂😂😂💀🤷♂♥🙄💘😊🙄😉🔥😊😇😆😂😉👍👏❤❤😔🤣😩❤❤😅🖤🥺👉🏽👈🏽👉🏽👈🏽😤😤😞🎉🎉♥😭🤦♂😂👇😐💀😖😀😔🥰🌟😅☹😊😊🤷🏾♀🤷🏾♀💙💙🙏😔❤🤯🤦🏽♂😅😂😂✌😫😂😞😢🤢🤦🏻♂🤷🏻♂😘🖤😑😑😢📷📷😊😔🥴❤😍🤪💔🤩😍❤😂👍😖🤷♂😔🤦🏽♂😭😿☹😬😭🤷🏻♂🤷🏻♀🤦🏻♀😅🤢✌🏻👀👀🤷🏼♀💔🙄🙄👻👻👇💟❤❤❤💜💛💜💛💜💛👈❤💌❤💌❤💌❤💌💌👇👇👇👇👆👆👆😨🧁💔😢"
     ]
    }
   ],
   "source": [
    "for i in emojis['emoji']:\n",
    "    for n in i:\n",
    "        print(n, end = '')"
   ]
  },
  {
   "cell_type": "code",
   "execution_count": null,
   "metadata": {},
   "outputs": [],
   "source": []
  }
 ],
 "metadata": {
  "kernelspec": {
   "display_name": "Python 3",
   "language": "python",
   "name": "python3"
  },
  "language_info": {
   "codemirror_mode": {
    "name": "ipython",
    "version": 3
   },
   "file_extension": ".py",
   "mimetype": "text/x-python",
   "name": "python",
   "nbconvert_exporter": "python",
   "pygments_lexer": "ipython3",
   "version": "3.7.4"
  }
 },
 "nbformat": 4,
 "nbformat_minor": 2
}
