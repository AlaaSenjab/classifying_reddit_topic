{
 "cells": [
  {
   "cell_type": "markdown",
   "metadata": {},
   "source": [
    "### Importing Libraries"
   ]
  },
  {
   "cell_type": "code",
   "execution_count": 295,
   "metadata": {},
   "outputs": [],
   "source": [
    "import pandas as pd\n",
    "import numpy as np\n",
    "\n",
    "\n",
    "from nltk.stem.porter import PorterStemmer\n",
    "from nltk.stem import WordNetLemmatizer\n",
    "from sklearn.feature_extraction import stop_words\n",
    "from sklearn.feature_extraction.text import CountVectorizer, TfidfVectorizer\n",
    "\n",
    "\n",
    "from sklearn.model_selection import train_test_split, GridSearchCV\n",
    "from sklearn.pipeline import Pipeline,FeatureUnion\n",
    "from sklearn.metrics import accuracy_score, confusion_matrix\n",
    "\n",
    "\n",
    "#Classifiers\n",
    "from sklearn.ensemble import RandomForestClassifier, ExtraTreesClassifier, GradientBoostingClassifier, VotingClassifier\n",
    "from sklearn.tree import DecisionTreeClassifier\n",
    "import xgboost as xgb\n",
    "from sklearn.svm import SVC\n",
    "from sklearn.naive_bayes import ComplementNB, MultinomialNB\n",
    "from sklearn.linear_model import LogisticRegression\n",
    "\n",
    "import matplotlib.pyplot as plt\n",
    "%matplotlib inline\n",
    "\n",
    "import warnings\n",
    "warnings.filterwarnings('ignore')"
   ]
  },
  {
   "cell_type": "code",
   "execution_count": 197,
   "metadata": {},
   "outputs": [],
   "source": [
    "df = pd.read_csv('../data/combined_clean.csv')"
   ]
  },
  {
   "cell_type": "code",
   "execution_count": 200,
   "metadata": {
    "scrolled": true
   },
   "outputs": [
    {
     "data": {
      "text/html": [
       "<div>\n",
       "<style scoped>\n",
       "    .dataframe tbody tr th:only-of-type {\n",
       "        vertical-align: middle;\n",
       "    }\n",
       "\n",
       "    .dataframe tbody tr th {\n",
       "        vertical-align: top;\n",
       "    }\n",
       "\n",
       "    .dataframe thead th {\n",
       "        text-align: right;\n",
       "    }\n",
       "</style>\n",
       "<table border=\"1\" class=\"dataframe\">\n",
       "  <thead>\n",
       "    <tr style=\"text-align: right;\">\n",
       "      <th></th>\n",
       "      <th>selftext</th>\n",
       "      <th>subreddit</th>\n",
       "    </tr>\n",
       "  </thead>\n",
       "  <tbody>\n",
       "    <tr>\n",
       "      <td>0</td>\n",
       "      <td>Magickal thinking while depressed I hate mysel...</td>\n",
       "      <td>0</td>\n",
       "    </tr>\n",
       "    <tr>\n",
       "      <td>1</td>\n",
       "      <td>Last year I made a promise to myself that I'd ...</td>\n",
       "      <td>0</td>\n",
       "    </tr>\n",
       "    <tr>\n",
       "      <td>2</td>\n",
       "      <td>I no longer have any friends I've always had l...</td>\n",
       "      <td>0</td>\n",
       "    </tr>\n",
       "    <tr>\n",
       "      <td>3</td>\n",
       "      <td>I wish I could kill myself without hurting any...</td>\n",
       "      <td>0</td>\n",
       "    </tr>\n",
       "    <tr>\n",
       "      <td>4</td>\n",
       "      <td>Depression affecting me physically Hi, I’m a f...</td>\n",
       "      <td>0</td>\n",
       "    </tr>\n",
       "  </tbody>\n",
       "</table>\n",
       "</div>"
      ],
      "text/plain": [
       "                                            selftext  subreddit\n",
       "0  Magickal thinking while depressed I hate mysel...          0\n",
       "1  Last year I made a promise to myself that I'd ...          0\n",
       "2  I no longer have any friends I've always had l...          0\n",
       "3  I wish I could kill myself without hurting any...          0\n",
       "4  Depression affecting me physically Hi, I’m a f...          0"
      ]
     },
     "execution_count": 200,
     "metadata": {},
     "output_type": "execute_result"
    }
   ],
   "source": [
    "df.head()"
   ]
  },
  {
   "cell_type": "code",
   "execution_count": 202,
   "metadata": {
    "scrolled": true
   },
   "outputs": [
    {
     "data": {
      "text/plain": [
       "(90000, 2)"
      ]
     },
     "execution_count": 202,
     "metadata": {},
     "output_type": "execute_result"
    }
   ],
   "source": [
    "df.shape"
   ]
  },
  {
   "cell_type": "markdown",
   "metadata": {},
   "source": [
    "## Modeling"
   ]
  },
  {
   "cell_type": "code",
   "execution_count": 205,
   "metadata": {},
   "outputs": [],
   "source": [
    "x = df['selftext'] #features\n",
    "y = df['subreddit'] #target"
   ]
  },
  {
   "cell_type": "markdown",
   "metadata": {},
   "source": [
    "#### baseline model"
   ]
  },
  {
   "cell_type": "code",
   "execution_count": 207,
   "metadata": {
    "scrolled": true
   },
   "outputs": [
    {
     "data": {
      "text/plain": [
       "1    45000\n",
       "0    45000\n",
       "Name: subreddit, dtype: int64"
      ]
     },
     "execution_count": 207,
     "metadata": {},
     "output_type": "execute_result"
    }
   ],
   "source": [
    "y.value_counts()"
   ]
  },
  {
   "cell_type": "code",
   "execution_count": 208,
   "metadata": {
    "scrolled": true
   },
   "outputs": [
    {
     "data": {
      "text/plain": [
       "1    0.5\n",
       "0    0.5\n",
       "Name: subreddit, dtype: float64"
      ]
     },
     "execution_count": 208,
     "metadata": {},
     "output_type": "execute_result"
    }
   ],
   "source": [
    "y.value_counts(normalize=True)"
   ]
  },
  {
   "cell_type": "markdown",
   "metadata": {},
   "source": [
    "#### Using Multinomial Naive Bayes"
   ]
  },
  {
   "cell_type": "code",
   "execution_count": 98,
   "metadata": {},
   "outputs": [],
   "source": [
    "x_train,x_test, y_train, y_test = train_test_split(x,y, random_state=42)"
   ]
  },
  {
   "cell_type": "markdown",
   "metadata": {},
   "source": [
    "Bellow, i am using both PorterStemmer and WordNetLemmatizer on TfidfVectorizer and CountVectorizer. my estimator is MultinomialNB. I am also testing for stopwords, ngram_range, and trying multiple max_features."
   ]
  },
  {
   "cell_type": "code",
   "execution_count": 210,
   "metadata": {},
   "outputs": [],
   "source": [
    "\n",
    "stems = PorterStemmer()\n",
    "lems = WordNetLemmatizer()\n",
    "cvec_analyzer = CountVectorizer().build_analyzer()\n",
    "tfic_analyzer = TfidfVectorizer().build_analyzer()\n",
    "\n",
    "def c_stems_words(doc):\n",
    "    return (stems.stem(word) for word in cvec_analyzer(doc))\n",
    "\n",
    "def c_lems_words(doc):\n",
    "    return (lems.lemmatize(word) for word in cvec_analyzer(doc))\n",
    "\n",
    "def t_stems_words(doc):\n",
    "    return (stems.stem(word) for word in tfic_analyzer(doc))\n",
    "\n",
    "def t_lems_words(doc):\n",
    "    return (lems.lemmatize(word) for word in tfic_analyzer(doc))"
   ]
  },
  {
   "cell_type": "code",
   "execution_count": 186,
   "metadata": {},
   "outputs": [],
   "source": [
    "pipe_mb = Pipeline([\n",
    "\n",
    "    ('feats', FeatureUnion([\n",
    "        ('tfic', TfidfVectorizer()),\n",
    "        ('cvec',  CountVectorizer()),\n",
    "    ])),\n",
    "    ('mb' , MultinomialNB())\n",
    "    \n",
    "])"
   ]
  },
  {
   "cell_type": "code",
   "execution_count": 187,
   "metadata": {},
   "outputs": [],
   "source": [
    "pipe_parms = {\n",
    "     'feats__tfic__max_features' : [15_000,20_000, 30_000],\n",
    "      'feats__tfic__ngram_range' : [(1,1),(1,2)],\n",
    "      'feats__tfic__stop_words' : [ 'english', None],\n",
    "     'feats__tfic__analyzer' : [t_stems_words,t_lems_words],\n",
    "     \n",
    "      'feats__cvec__max_features' : [15_000,20_000,30_000],\n",
    "      'feats__cvec__ngram_range' : [(1,1),(1,2)],\n",
    "      'feats__cvec__stop_words' : [ 'english', None],\n",
    "      'feats__cvec__analyzer' : [c_stems_words, c_lems_words],\n",
    "}"
   ]
  },
  {
   "cell_type": "code",
   "execution_count": 188,
   "metadata": {},
   "outputs": [],
   "source": [
    "\n",
    "gs = GridSearchCV(pipe_mb, param_grid= pipe_parms, cv=5, n_jobs=-1, verbose=2)"
   ]
  },
  {
   "cell_type": "code",
   "execution_count": 189,
   "metadata": {
    "scrolled": true
   },
   "outputs": [
    {
     "name": "stdout",
     "output_type": "stream",
     "text": [
      "Fitting 5 folds for each of 576 candidates, totalling 2880 fits\n"
     ]
    },
    {
     "name": "stderr",
     "output_type": "stream",
     "text": [
      "[Parallel(n_jobs=-1)]: Using backend LokyBackend with 16 concurrent workers.\n",
      "[Parallel(n_jobs=-1)]: Done   9 tasks      | elapsed:  2.1min\n",
      "[Parallel(n_jobs=-1)]: Done 130 tasks      | elapsed: 15.2min\n",
      "[Parallel(n_jobs=-1)]: Done 333 tasks      | elapsed: 37.3min\n",
      "[Parallel(n_jobs=-1)]: Done 616 tasks      | elapsed: 67.5min\n",
      "[Parallel(n_jobs=-1)]: Done 981 tasks      | elapsed: 107.3min\n",
      "[Parallel(n_jobs=-1)]: Done 1426 tasks      | elapsed: 154.4min\n",
      "[Parallel(n_jobs=-1)]: Done 1953 tasks      | elapsed: 187.5min\n",
      "[Parallel(n_jobs=-1)]: Done 2560 tasks      | elapsed: 223.5min\n",
      "[Parallel(n_jobs=-1)]: Done 2880 out of 2880 | elapsed: 241.1min finished\n"
     ]
    },
    {
     "data": {
      "text/plain": [
       "GridSearchCV(cv=5, error_score='raise-deprecating',\n",
       "             estimator=Pipeline(memory=None,\n",
       "                                steps=[('feats',\n",
       "                                        FeatureUnion(n_jobs=None,\n",
       "                                                     transformer_list=[('tfic',\n",
       "                                                                        TfidfVectorizer(analyzer='word',\n",
       "                                                                                        binary=False,\n",
       "                                                                                        decode_error='strict',\n",
       "                                                                                        dtype=<class 'numpy.float64'>,\n",
       "                                                                                        encoding='utf-8',\n",
       "                                                                                        input='content',\n",
       "                                                                                        lowercase=True,\n",
       "                                                                                        max_df=1.0,\n",
       "                                                                                        max_features=None,\n",
       "                                                                                        min_df=1,\n",
       "                                                                                        ngram_range=(1,\n",
       "                                                                                                     1),\n",
       "                                                                                        no...\n",
       "                         'feats__cvec__stop_words': ['english', None],\n",
       "                         'feats__tfic__analyzer': [<function t_stems_words at 0x7f843ab39488>,\n",
       "                                                   <function t_lems_words at 0x7f843ab39598>],\n",
       "                         'feats__tfic__max_features': [15000, 20000, 30000],\n",
       "                         'feats__tfic__ngram_range': [(1, 1), (1, 2)],\n",
       "                         'feats__tfic__stop_words': ['english', None]},\n",
       "             pre_dispatch='2*n_jobs', refit=True, return_train_score=False,\n",
       "             scoring=None, verbose=2)"
      ]
     },
     "execution_count": 189,
     "metadata": {},
     "output_type": "execute_result"
    }
   ],
   "source": [
    "gs.fit(x_train,y_train)"
   ]
  },
  {
   "cell_type": "code",
   "execution_count": 190,
   "metadata": {},
   "outputs": [
    {
     "data": {
      "text/plain": [
       "0.8169333333333333"
      ]
     },
     "execution_count": 190,
     "metadata": {},
     "output_type": "execute_result"
    }
   ],
   "source": [
    "gs.score(x_train,y_train)"
   ]
  },
  {
   "cell_type": "code",
   "execution_count": 191,
   "metadata": {},
   "outputs": [
    {
     "data": {
      "text/plain": [
       "0.7516"
      ]
     },
     "execution_count": 191,
     "metadata": {},
     "output_type": "execute_result"
    }
   ],
   "source": [
    "gs.score(x_test,y_test)"
   ]
  },
  {
   "cell_type": "code",
   "execution_count": 195,
   "metadata": {},
   "outputs": [
    {
     "data": {
      "text/plain": [
       "0.7672"
      ]
     },
     "execution_count": 195,
     "metadata": {},
     "output_type": "execute_result"
    }
   ],
   "source": [
    "gs.best_score_"
   ]
  },
  {
   "cell_type": "code",
   "execution_count": 192,
   "metadata": {},
   "outputs": [
    {
     "data": {
      "text/plain": [
       "{'feats__cvec__analyzer': <function __main__.c_lems_words(doc)>,\n",
       " 'feats__cvec__max_features': 20000,\n",
       " 'feats__cvec__ngram_range': (1, 1),\n",
       " 'feats__cvec__stop_words': 'english',\n",
       " 'feats__tfic__analyzer': <function __main__.t_lems_words(doc)>,\n",
       " 'feats__tfic__max_features': 20000,\n",
       " 'feats__tfic__ngram_range': (1, 1),\n",
       " 'feats__tfic__stop_words': 'english'}"
      ]
     },
     "execution_count": 192,
     "metadata": {},
     "output_type": "execute_result"
    }
   ],
   "source": [
    "gs.best_params_"
   ]
  },
  {
   "cell_type": "code",
   "execution_count": 193,
   "metadata": {
    "scrolled": true
   },
   "outputs": [
    {
     "data": {
      "text/plain": [
       "Pipeline(memory=None,\n",
       "         steps=[('feats',\n",
       "                 FeatureUnion(n_jobs=None,\n",
       "                              transformer_list=[('tfic',\n",
       "                                                 TfidfVectorizer(analyzer=<function t_lems_words at 0x7f843ab39598>,\n",
       "                                                                 binary=False,\n",
       "                                                                 decode_error='strict',\n",
       "                                                                 dtype=<class 'numpy.float64'>,\n",
       "                                                                 encoding='utf-8',\n",
       "                                                                 input='content',\n",
       "                                                                 lowercase=True,\n",
       "                                                                 max_df=1.0,\n",
       "                                                                 max_features=20000,\n",
       "                                                                 min_df=1,\n",
       "                                                                 ngram_range=(1,\n",
       "                                                                              1),\n",
       "                                                                 norm='l2',\n",
       "                                                                 preprocessor=None,\n",
       "                                                                 s...\n",
       "                                                                 encoding='utf-8',\n",
       "                                                                 input='content',\n",
       "                                                                 lowercase=True,\n",
       "                                                                 max_df=1.0,\n",
       "                                                                 max_features=20000,\n",
       "                                                                 min_df=1,\n",
       "                                                                 ngram_range=(1,\n",
       "                                                                              1),\n",
       "                                                                 preprocessor=None,\n",
       "                                                                 stop_words='english',\n",
       "                                                                 strip_accents=None,\n",
       "                                                                 token_pattern='(?u)\\\\b\\\\w\\\\w+\\\\b',\n",
       "                                                                 tokenizer=None,\n",
       "                                                                 vocabulary=None))],\n",
       "                              transformer_weights=None, verbose=False)),\n",
       "                ('mb',\n",
       "                 MultinomialNB(alpha=1.0, class_prior=None, fit_prior=True))],\n",
       "         verbose=False)"
      ]
     },
     "execution_count": 193,
     "metadata": {},
     "output_type": "execute_result"
    }
   ],
   "source": [
    "gs.best_estimator_"
   ]
  },
  {
   "cell_type": "code",
   "execution_count": null,
   "metadata": {},
   "outputs": [],
   "source": []
  },
  {
   "cell_type": "markdown",
   "metadata": {},
   "source": [
    "## Using SVC"
   ]
  },
  {
   "cell_type": "code",
   "execution_count": 215,
   "metadata": {},
   "outputs": [],
   "source": [
    "pipe_mb = Pipeline([\n",
    "    ('feats', FeatureUnion([\n",
    "        ('tfic', TfidfVectorizer()),\n",
    "        ('cvec',  CountVectorizer()),\n",
    "    ])),\n",
    "    ('svc' ,SVC(gamma=\"scale\"))\n",
    "    \n",
    "])\n",
    "pipe_parms = {\n",
    "#      'feats__tfic__max_features' : [40_000,30_000,35_000],\n",
    "#      'feats__tfic__ngram_range' : [(1,2),(1,3),(1,4)],\n",
    "#      'feats__tfic__stop_words' : [ 'english'],\n",
    "    \n",
    "}\n",
    "gs = GridSearchCV(pipe_mb, param_grid= pipe_parms, cv=5, n_jobs=-1, verbose=2)"
   ]
  },
  {
   "cell_type": "code",
   "execution_count": 216,
   "metadata": {},
   "outputs": [
    {
     "name": "stdout",
     "output_type": "stream",
     "text": [
      "Fitting 5 folds for each of 1 candidates, totalling 5 fits\n"
     ]
    },
    {
     "name": "stderr",
     "output_type": "stream",
     "text": [
      "[Parallel(n_jobs=-1)]: Using backend LokyBackend with 16 concurrent workers.\n",
      "[Parallel(n_jobs=-1)]: Done   5 out of   5 | elapsed:  2.6min finished\n"
     ]
    },
    {
     "data": {
      "text/plain": [
       "GridSearchCV(cv=5, error_score='raise-deprecating',\n",
       "             estimator=Pipeline(memory=None,\n",
       "                                steps=[('feats',\n",
       "                                        FeatureUnion(n_jobs=None,\n",
       "                                                     transformer_list=[('tfic',\n",
       "                                                                        TfidfVectorizer(analyzer='word',\n",
       "                                                                                        binary=False,\n",
       "                                                                                        decode_error='strict',\n",
       "                                                                                        dtype=<class 'numpy.float64'>,\n",
       "                                                                                        encoding='utf-8',\n",
       "                                                                                        input='content',\n",
       "                                                                                        lowercase=True,\n",
       "                                                                                        max_df=1.0,\n",
       "                                                                                        max_features=None,\n",
       "                                                                                        min_df=1,\n",
       "                                                                                        ngram_range=(1,\n",
       "                                                                                                     1),\n",
       "                                                                                        no...\n",
       "                                                     verbose=False)),\n",
       "                                       ('svc',\n",
       "                                        SVC(C=1.0, cache_size=200,\n",
       "                                            class_weight=None, coef0=0.0,\n",
       "                                            decision_function_shape='ovr',\n",
       "                                            degree=3, gamma='scale',\n",
       "                                            kernel='rbf', max_iter=-1,\n",
       "                                            probability=False,\n",
       "                                            random_state=None, shrinking=True,\n",
       "                                            tol=0.001, verbose=False))],\n",
       "                                verbose=False),\n",
       "             iid='warn', n_jobs=-1, param_grid={}, pre_dispatch='2*n_jobs',\n",
       "             refit=True, return_train_score=False, scoring=None, verbose=2)"
      ]
     },
     "execution_count": 216,
     "metadata": {},
     "output_type": "execute_result"
    }
   ],
   "source": [
    "gs.fit(x_train,y_train)"
   ]
  },
  {
   "cell_type": "code",
   "execution_count": 217,
   "metadata": {},
   "outputs": [
    {
     "data": {
      "text/plain": [
       "0.9568"
      ]
     },
     "execution_count": 217,
     "metadata": {},
     "output_type": "execute_result"
    }
   ],
   "source": [
    "gs.score(x_train,y_train)"
   ]
  },
  {
   "cell_type": "code",
   "execution_count": 218,
   "metadata": {},
   "outputs": [
    {
     "data": {
      "text/plain": [
       "0.7946"
      ]
     },
     "execution_count": 218,
     "metadata": {},
     "output_type": "execute_result"
    }
   ],
   "source": [
    "gs.score(x_test,y_test)"
   ]
  },
  {
   "cell_type": "markdown",
   "metadata": {},
   "source": [
    "## Voting Classifier"
   ]
  },
  {
   "cell_type": "code",
   "execution_count": 17,
   "metadata": {},
   "outputs": [],
   "source": [
    "XGB = xgb.XGBClassifier()\n",
    "ETC = ExtraTreesClassifier()\n",
    "RFC = RandomForestClassifier()\n",
    "DTC = DecisionTreeClassifier()\n",
    "SV = SVC(gamma=\"scale\", probability=True)\n"
   ]
  },
  {
   "cell_type": "code",
   "execution_count": 36,
   "metadata": {},
   "outputs": [],
   "source": [
    "CLASS = VotingClassifier(estimators=[\n",
    "                                     ('RFC',RFC),\n",
    "                                    ('XGB',XGB),\n",
    "                                     ('ETC',ETC),\n",
    "                                     ('DTC',DTC),\n",
    "                                     ('SVC',SV),    \n",
    "                                    ], voting='soft')\n"
   ]
  },
  {
   "cell_type": "code",
   "execution_count": 37,
   "metadata": {},
   "outputs": [],
   "source": [
    "pipe = Pipeline([\n",
    "                ('tfic', TfidfVectorizer()),\n",
    "                ('CLASS', CLASS)\n",
    "])"
   ]
  },
  {
   "cell_type": "code",
   "execution_count": 38,
   "metadata": {},
   "outputs": [],
   "source": [
    "pipe_parms = {\n",
    "#      'tfic__max_features' : [40000],\n",
    "#       'tfic__ngram_range' : [(1,1),(1,2)],\n",
    "#      'tfic__stop_words' : [ 'english'],\n",
    "#       'CLASS__ETC__max_depth' : [10],\n",
    "     'CLASS__RFC__max_depth' : [15],\n",
    "    \n",
    "#      'CLASS__DTC__max_depth' : [10],\n",
    "#     'CLASS__XGB__max_depth' : [15],\n",
    "}\n",
    "\n",
    "gs = GridSearchCV(pipe, param_grid= pipe_parms, cv=5, n_jobs=-1, verbose=3)"
   ]
  },
  {
   "cell_type": "code",
   "execution_count": 39,
   "metadata": {
    "scrolled": true
   },
   "outputs": [
    {
     "name": "stdout",
     "output_type": "stream",
     "text": [
      "Fitting 5 folds for each of 1 candidates, totalling 5 fits\n"
     ]
    },
    {
     "name": "stderr",
     "output_type": "stream",
     "text": [
      "[Parallel(n_jobs=-1)]: Using backend LokyBackend with 16 concurrent workers.\n",
      "[Parallel(n_jobs=-1)]: Done   2 out of   5 | elapsed:  9.5min remaining: 14.2min\n",
      "[Parallel(n_jobs=-1)]: Done   5 out of   5 | elapsed:  9.5min finished\n"
     ]
    },
    {
     "data": {
      "text/plain": [
       "GridSearchCV(cv=5, error_score='raise-deprecating',\n",
       "             estimator=Pipeline(memory=None,\n",
       "                                steps=[('tfic',\n",
       "                                        TfidfVectorizer(analyzer='word',\n",
       "                                                        binary=False,\n",
       "                                                        decode_error='strict',\n",
       "                                                        dtype=<class 'numpy.float64'>,\n",
       "                                                        encoding='utf-8',\n",
       "                                                        input='content',\n",
       "                                                        lowercase=True,\n",
       "                                                        max_df=1.0,\n",
       "                                                        max_features=None,\n",
       "                                                        min_df=1,\n",
       "                                                        ngram_range=(1, 1),\n",
       "                                                        norm='l2',\n",
       "                                                        preprocessor=None,\n",
       "                                                        smooth_idf=True,\n",
       "                                                        stop_words...\n",
       "                                                                          degree=3,\n",
       "                                                                          gamma='scale',\n",
       "                                                                          kernel='rbf',\n",
       "                                                                          max_iter=-1,\n",
       "                                                                          probability=True,\n",
       "                                                                          random_state=None,\n",
       "                                                                          shrinking=True,\n",
       "                                                                          tol=0.001,\n",
       "                                                                          verbose=False))],\n",
       "                                                         flatten_transform=True,\n",
       "                                                         n_jobs=None,\n",
       "                                                         voting='soft',\n",
       "                                                         weights=None))],\n",
       "                                verbose=False),\n",
       "             iid='warn', n_jobs=-1, param_grid={'CLASS__RFC__max_depth': [15]},\n",
       "             pre_dispatch='2*n_jobs', refit=True, return_train_score=False,\n",
       "             scoring=None, verbose=3)"
      ]
     },
     "execution_count": 39,
     "metadata": {},
     "output_type": "execute_result"
    }
   ],
   "source": [
    "gs.fit(x_train,y_train)"
   ]
  },
  {
   "cell_type": "code",
   "execution_count": 40,
   "metadata": {},
   "outputs": [
    {
     "data": {
      "text/plain": [
       "0.9303333333333333"
      ]
     },
     "execution_count": 40,
     "metadata": {},
     "output_type": "execute_result"
    }
   ],
   "source": [
    "gs.score(x_train, y_train)"
   ]
  },
  {
   "cell_type": "code",
   "execution_count": 41,
   "metadata": {},
   "outputs": [
    {
     "data": {
      "text/plain": [
       "0.7948"
      ]
     },
     "execution_count": 41,
     "metadata": {},
     "output_type": "execute_result"
    }
   ],
   "source": [
    "gs.score(x_test, y_test)"
   ]
  },
  {
   "cell_type": "code",
   "execution_count": 42,
   "metadata": {},
   "outputs": [
    {
     "data": {
      "text/plain": [
       "{'CLASS__RFC__max_depth': 15}"
      ]
     },
     "execution_count": 42,
     "metadata": {},
     "output_type": "execute_result"
    }
   ],
   "source": [
    "gs.best_params_"
   ]
  },
  {
   "cell_type": "code",
   "execution_count": null,
   "metadata": {},
   "outputs": [],
   "source": []
  },
  {
   "cell_type": "markdown",
   "metadata": {},
   "source": [
    "## Random Forest"
   ]
  },
  {
   "cell_type": "code",
   "execution_count": 106,
   "metadata": {},
   "outputs": [],
   "source": [
    "pipe = Pipeline([\n",
    "    ('tfic', TfidfVectorizer()),\n",
    "    ('rf' ,RandomForestClassifier())\n",
    "])\n",
    "pipe_parms = {\n",
    "      'tfic__max_features' : [55_000],\n",
    "      'tfic__stop_words' : [ 'english'],\n",
    "      'rf__max_depth' : [30],\n",
    "      'rf__n_estimators' : [1000]\n",
    "    \n",
    "}"
   ]
  },
  {
   "cell_type": "code",
   "execution_count": 107,
   "metadata": {},
   "outputs": [],
   "source": [
    "gs = GridSearchCV(pipe, param_grid= pipe_parms, cv=5, n_jobs=-1, verbose=3)"
   ]
  },
  {
   "cell_type": "code",
   "execution_count": 108,
   "metadata": {
    "scrolled": true
   },
   "outputs": [
    {
     "name": "stdout",
     "output_type": "stream",
     "text": [
      "Fitting 5 folds for each of 1 candidates, totalling 5 fits\n"
     ]
    },
    {
     "name": "stderr",
     "output_type": "stream",
     "text": [
      "[Parallel(n_jobs=-1)]: Using backend LokyBackend with 16 concurrent workers.\n",
      "[Parallel(n_jobs=-1)]: Done   2 out of   5 | elapsed:  5.4min remaining:  8.1min\n",
      "[Parallel(n_jobs=-1)]: Done   5 out of   5 | elapsed:  5.5min finished\n"
     ]
    },
    {
     "data": {
      "text/plain": [
       "GridSearchCV(cv=5, error_score='raise-deprecating',\n",
       "             estimator=Pipeline(memory=None,\n",
       "                                steps=[('tfic',\n",
       "                                        TfidfVectorizer(analyzer='word',\n",
       "                                                        binary=False,\n",
       "                                                        decode_error='strict',\n",
       "                                                        dtype=<class 'numpy.float64'>,\n",
       "                                                        encoding='utf-8',\n",
       "                                                        input='content',\n",
       "                                                        lowercase=True,\n",
       "                                                        max_df=1.0,\n",
       "                                                        max_features=None,\n",
       "                                                        min_df=1,\n",
       "                                                        ngram_range=(1, 1),\n",
       "                                                        norm='l2',\n",
       "                                                        preprocessor=None,\n",
       "                                                        smooth_idf=True,\n",
       "                                                        stop_words...\n",
       "                                                               min_weight_fraction_leaf=0.0,\n",
       "                                                               n_estimators='warn',\n",
       "                                                               n_jobs=None,\n",
       "                                                               oob_score=False,\n",
       "                                                               random_state=None,\n",
       "                                                               verbose=0,\n",
       "                                                               warm_start=False))],\n",
       "                                verbose=False),\n",
       "             iid='warn', n_jobs=-1,\n",
       "             param_grid={'rf__max_depth': [30], 'rf__n_estimators': [1000],\n",
       "                         'tfic__max_features': [55000],\n",
       "                         'tfic__stop_words': ['english']},\n",
       "             pre_dispatch='2*n_jobs', refit=True, return_train_score=False,\n",
       "             scoring=None, verbose=3)"
      ]
     },
     "execution_count": 108,
     "metadata": {},
     "output_type": "execute_result"
    }
   ],
   "source": [
    "gs.fit(x_train,y_train)"
   ]
  },
  {
   "cell_type": "code",
   "execution_count": 109,
   "metadata": {},
   "outputs": [
    {
     "data": {
      "text/plain": [
       "0.8701466666666666"
      ]
     },
     "execution_count": 109,
     "metadata": {},
     "output_type": "execute_result"
    }
   ],
   "source": [
    "gs.score(x_train,y_train)"
   ]
  },
  {
   "cell_type": "code",
   "execution_count": 110,
   "metadata": {},
   "outputs": [
    {
     "data": {
      "text/plain": [
       "0.74648"
      ]
     },
     "execution_count": 110,
     "metadata": {},
     "output_type": "execute_result"
    }
   ],
   "source": [
    "gs.score(x_test,y_test)"
   ]
  },
  {
   "cell_type": "code",
   "execution_count": 111,
   "metadata": {
    "scrolled": true
   },
   "outputs": [
    {
     "data": {
      "text/plain": [
       "{'rf__max_depth': 30,\n",
       " 'rf__n_estimators': 1000,\n",
       " 'tfic__max_features': 55000,\n",
       " 'tfic__stop_words': 'english'}"
      ]
     },
     "execution_count": 111,
     "metadata": {},
     "output_type": "execute_result"
    }
   ],
   "source": [
    "gs.best_params_"
   ]
  },
  {
   "cell_type": "markdown",
   "metadata": {},
   "source": [
    "## Logistic Regression"
   ]
  },
  {
   "cell_type": "code",
   "execution_count": 250,
   "metadata": {},
   "outputs": [],
   "source": [
    "x_train,x_test, y_train, y_test = train_test_split(x,y, random_state=42)"
   ]
  },
  {
   "cell_type": "code",
   "execution_count": 252,
   "metadata": {},
   "outputs": [],
   "source": [
    "tf = TfidfVectorizer(stop_words='english')"
   ]
  },
  {
   "cell_type": "code",
   "execution_count": 254,
   "metadata": {},
   "outputs": [],
   "source": [
    "Z_train = tf.fit_transform(x_train,y_train)\n",
    "Z_test = tf.transform(x_test,y_test)"
   ]
  },
  {
   "cell_type": "code",
   "execution_count": 256,
   "metadata": {},
   "outputs": [],
   "source": [
    "lr = LogisticRegression()"
   ]
  },
  {
   "cell_type": "code",
   "execution_count": 257,
   "metadata": {},
   "outputs": [
    {
     "data": {
      "text/plain": [
       "LogisticRegression(C=1.0, class_weight=None, dual=False, fit_intercept=True,\n",
       "                   intercept_scaling=1, l1_ratio=None, max_iter=100,\n",
       "                   multi_class='warn', n_jobs=None, penalty='l2',\n",
       "                   random_state=None, solver='warn', tol=0.0001, verbose=0,\n",
       "                   warm_start=False)"
      ]
     },
     "execution_count": 257,
     "metadata": {},
     "output_type": "execute_result"
    }
   ],
   "source": [
    "lr.fit(Z_train, y_train)"
   ]
  },
  {
   "cell_type": "code",
   "execution_count": 259,
   "metadata": {},
   "outputs": [
    {
     "data": {
      "text/plain": [
       "0.834237037037037"
      ]
     },
     "execution_count": 259,
     "metadata": {},
     "output_type": "execute_result"
    }
   ],
   "source": [
    "lr.score(Z_train,y_train)"
   ]
  },
  {
   "cell_type": "code",
   "execution_count": 260,
   "metadata": {},
   "outputs": [
    {
     "data": {
      "text/plain": [
       "0.7996444444444445"
      ]
     },
     "execution_count": 260,
     "metadata": {},
     "output_type": "execute_result"
    }
   ],
   "source": [
    "lr.score(Z_test,y_test)"
   ]
  },
  {
   "cell_type": "markdown",
   "metadata": {},
   "source": [
    "This is the best score i have got"
   ]
  },
  {
   "cell_type": "markdown",
   "metadata": {},
   "source": [
    "## Data Visualization"
   ]
  },
  {
   "cell_type": "code",
   "execution_count": 291,
   "metadata": {},
   "outputs": [],
   "source": [
    "off = pd.read_csv('../data/offmychest_clean.csv')\n",
    "dep = pd.read_csv('../data/dep_clean.csv')"
   ]
  },
  {
   "cell_type": "markdown",
   "metadata": {},
   "source": [
    "### Offmychest"
   ]
  },
  {
   "cell_type": "code",
   "execution_count": 292,
   "metadata": {},
   "outputs": [],
   "source": [
    "x_off = off['selftext'] #features\n",
    "y_off = off['subreddit'] #target"
   ]
  },
  {
   "cell_type": "code",
   "execution_count": 293,
   "metadata": {},
   "outputs": [],
   "source": [
    "cvec = CountVectorizer(stop_words = 'english') \n",
    "\n",
    "Z_off = cvec.fit_transform(x_off)"
   ]
  },
  {
   "cell_type": "code",
   "execution_count": 76,
   "metadata": {},
   "outputs": [],
   "source": [
    "off_vect = pd.DataFrame(Z_off.todense(), columns=cvec.get_feature_names()).reindex(y_off.index)"
   ]
  },
  {
   "cell_type": "code",
   "execution_count": 77,
   "metadata": {},
   "outputs": [],
   "source": [
    "off_10 = off_vect.mean().sort_values(ascending=False).iloc[:12]"
   ]
  },
  {
   "cell_type": "code",
   "execution_count": 166,
   "metadata": {
    "scrolled": false
   },
   "outputs": [
    {
     "data": {
      "image/png": "[encoded data removed]",
      "text/plain": [
       "<Figure size 288x576 with 1 Axes>"
      ]
     },
     "metadata": {},
     "output_type": "display_data"
    }
   ],
   "source": [
    "\n",
    "fig = plt.figure(figsize=(4,8), facecolor=(0,0,0))\n",
    "\n",
    "ax = fig.add_subplot(111)\n",
    "ax.barh(off_10.index, off_10.values)\n",
    "ax.patch.set_facecolor('black')\n",
    "ax.set_title('Offmychest Word Frequency',color= 'white')\n",
    "ax.tick_params(colors='white')\n",
    "plt.tight_layout()\n"
   ]
  },
  {
   "cell_type": "markdown",
   "metadata": {},
   "source": [
    "### Depressed"
   ]
  },
  {
   "cell_type": "code",
   "execution_count": 307,
   "metadata": {},
   "outputs": [],
   "source": [
    "\n",
    "x_dep = dep['selftext'] #features\n",
    "y_dep = dep['subreddit'] #target"
   ]
  },
  {
   "cell_type": "code",
   "execution_count": 308,
   "metadata": {},
   "outputs": [],
   "source": [
    "cvec = CountVectorizer(stop_words = 'english') \n",
    "\n",
    "Z_dep = cvec.fit_transform(x_dep)"
   ]
  },
  {
   "cell_type": "code",
   "execution_count": 87,
   "metadata": {},
   "outputs": [],
   "source": [
    "dep_vect = pd.DataFrame(Z_dep.todense(), columns=cvec.get_feature_names()).reindex(y_dep.index)"
   ]
  },
  {
   "cell_type": "code",
   "execution_count": 88,
   "metadata": {},
   "outputs": [],
   "source": [
    "dep_10 = dep_vect.mean().sort_values(ascending=False).iloc[:10]"
   ]
  },
  {
   "cell_type": "code",
   "execution_count": 89,
   "metadata": {},
   "outputs": [
    {
     "data": {
      "text/plain": [
       "array([1.71104742, 1.31765677, 1.18408025, 1.13060188, 0.83300764,\n",
       "       0.80749522, 0.76548115, 0.75805541, 0.61121244, 0.57571218])"
      ]
     },
     "execution_count": 89,
     "metadata": {},
     "output_type": "execute_result"
    }
   ],
   "source": [
    "dep_10.values"
   ]
  },
  {
   "cell_type": "code",
   "execution_count": 169,
   "metadata": {
    "scrolled": true
   },
   "outputs": [
    {
     "data": {
      "image/png": "[encoded data removed]",
      "text/plain": [
       "<Figure size 288x576 with 1 Axes>"
      ]
     },
     "metadata": {},
     "output_type": "display_data"
    }
   ],
   "source": [
    "\n",
    "fig = plt.figure(figsize=(4,8), facecolor=(0,0,0))\n",
    "\n",
    "ax = fig.add_subplot(111)\n",
    "ax.barh(dep_10.index, dep_10.values)\n",
    "ax.patch.set_facecolor('black')\n",
    "ax.set_title('Depressed Word Frequency',color= 'white')\n",
    "ax.tick_params(colors='white')\n",
    "plt.tight_layout()\n"
   ]
  },
  {
   "cell_type": "markdown",
   "metadata": {},
   "source": [
    "### Conclusion:"
   ]
  },
  {
   "cell_type": "markdown",
   "metadata": {},
   "source": [
    "In this project, i used multiple estimators and transformers to find which one gives the best results. Overall, Most of the models were overfitted. Adjusting the hyperparameters will help balance the model, but the data is big and requires a lot of time to find that balance.\n",
    "\n",
    "Regardless, Logistic Regression was the best, it gave around 81 accuracy score. Even though this score is low, the subreddits i choose were very similar in content and the use of words. The baseline model is 50%, so we bet it by 30%. Thats great!\n",
    "\n",
    "Even though this model can be improved, we can use this model to find users who are depressed on platforms other than reddit. Finding these people and offering them help is very important."
   ]
  }
 ],
 "metadata": {
  "kernelspec": {
   "display_name": "Python 3",
   "language": "python",
   "name": "python3"
  },
  "language_info": {
   "codemirror_mode": {
    "name": "ipython",
    "version": 3
   },
   "file_extension": ".py",
   "mimetype": "text/x-python",
   "name": "python",
   "nbconvert_exporter": "python",
   "pygments_lexer": "ipython3",
   "version": "3.7.4"
  }
 },
 "nbformat": 4,
 "nbformat_minor": 2
}
